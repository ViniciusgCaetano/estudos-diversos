{
 "cells": [
  {
   "cell_type": "code",
   "execution_count": 65,
   "id": "802b980d-311a-40ee-b1b2-1ad260a2347e",
   "metadata": {},
   "outputs": [],
   "source": [
    "from pyspark import SparkContext, SparkConf\n",
    "from pyspark.sql import SparkSession, Row, types\n",
    "from pyspark.sql.types import *"
   ]
  },
  {
   "cell_type": "code",
   "execution_count": 2,
   "id": "f8608500-4b63-43f9-8e68-09bb1c3d290c",
   "metadata": {},
   "outputs": [],
   "source": [
    "import os\n",
    "import sys\n",
    "from pyspark.sql import SparkSession\n",
    "\n",
    "os.environ['PYSPARK_PYTHON'] = sys.executable\n",
    "os.environ['PYSPARK_DRIVER_PYTHON'] = sys.executable\n",
    "spark = SparkSession.builder.getOrCreate()"
   ]
  },
  {
   "cell_type": "code",
   "execution_count": 3,
   "id": "77fe1dc5-c2b8-4397-ba60-8a05781fa75c",
   "metadata": {},
   "outputs": [],
   "source": [
    "sc = SparkContext.getOrCreate()"
   ]
  },
  {
   "cell_type": "code",
   "execution_count": 4,
   "id": "729e37f8-07e6-4849-a4e5-d65174e8c4e8",
   "metadata": {},
   "outputs": [],
   "source": [
    "spark = SparkSession(sc)"
   ]
  },
  {
   "cell_type": "code",
   "execution_count": 5,
   "id": "cb17142a-f919-4603-9511-bcaa583f8352",
   "metadata": {},
   "outputs": [],
   "source": [
    "func = lambda x: (x, x+4*100)\n",
    "iterator = range(10)\n",
    "trem = list(map(func, iterator))\n",
    "rdd = sc.parallelize(trem)\n"
   ]
  },
  {
   "cell_type": "code",
   "execution_count": 6,
   "id": "88e14c23-99ba-4d2c-8820-edd4bed5b813",
   "metadata": {},
   "outputs": [
    {
     "data": {
      "text/plain": [
       "[(0, 400),\n",
       " (1, 401),\n",
       " (2, 402),\n",
       " (3, 403),\n",
       " (4, 404),\n",
       " (5, 405),\n",
       " (6, 406),\n",
       " (7, 407),\n",
       " (8, 408),\n",
       " (9, 409)]"
      ]
     },
     "execution_count": 6,
     "metadata": {},
     "output_type": "execute_result"
    }
   ],
   "source": [
    "trem"
   ]
  },
  {
   "cell_type": "code",
   "execution_count": 7,
   "id": "1d66e75e-6cd7-4e39-8ef5-2f9fe8b48530",
   "metadata": {},
   "outputs": [
    {
     "data": {
      "text/plain": [
       "ParallelCollectionRDD[0] at readRDDFromFile at PythonRDD.scala:274"
      ]
     },
     "execution_count": 7,
     "metadata": {},
     "output_type": "execute_result"
    }
   ],
   "source": [
    "rdd"
   ]
  },
  {
   "cell_type": "code",
   "execution_count": 8,
   "id": "2f2121af-1c29-41f7-9ce9-ad546b9bc305",
   "metadata": {},
   "outputs": [],
   "source": [
    "kvDF = rdd.toDF([\"key\", \"value\"])"
   ]
  },
  {
   "cell_type": "code",
   "execution_count": 9,
   "id": "58f7ffc9-fd47-4269-85d4-1f9e87505bfb",
   "metadata": {},
   "outputs": [
    {
     "name": "stdout",
     "output_type": "stream",
     "text": [
      "root\n",
      " |-- key: long (nullable = true)\n",
      " |-- value: long (nullable = true)\n",
      "\n"
     ]
    }
   ],
   "source": [
    "kvDF.printSchema()"
   ]
  },
  {
   "cell_type": "code",
   "execution_count": 10,
   "id": "cb0fdba3-5d31-4e03-9ba2-84255f813b73",
   "metadata": {},
   "outputs": [
    {
     "name": "stdout",
     "output_type": "stream",
     "text": [
      "+---+-----+\n",
      "|key|value|\n",
      "+---+-----+\n",
      "|  0|  400|\n",
      "|  1|  401|\n",
      "|  2|  402|\n",
      "|  3|  403|\n",
      "|  4|  404|\n",
      "+---+-----+\n",
      "only showing top 5 rows\n",
      "\n"
     ]
    }
   ],
   "source": [
    "kvDF.show(5)"
   ]
  },
  {
   "cell_type": "code",
   "execution_count": 11,
   "id": "956202f1-67d0-4990-8859-530bb886e046",
   "metadata": {},
   "outputs": [],
   "source": [
    "list_of_people = [Row(1, 'Vinicius', 30),\n",
    "                 Row(2, 'Mary Jane', 25)]\n",
    "peopleRDD = sc.parallelize(list_of_people)"
   ]
  },
  {
   "cell_type": "code",
   "execution_count": 12,
   "id": "1ca18352-8fe9-45eb-929c-d87b3536c362",
   "metadata": {},
   "outputs": [],
   "source": [
    "schema = StructType([StructField(\"id\", LongType(), True),\n",
    "                    StructField(\"name\", StringType(), True),\n",
    "                    StructField(\"age\", LongType(), True)])"
   ]
  },
  {
   "cell_type": "code",
   "execution_count": 13,
   "id": "13ccd00d-3a3e-42c9-a67e-b70dbb356896",
   "metadata": {},
   "outputs": [],
   "source": [
    "peopleDF = spark.createDataFrame(peopleRDD, schema)"
   ]
  },
  {
   "cell_type": "code",
   "execution_count": 14,
   "id": "619c9ad7-8087-414d-a063-96b393d2522d",
   "metadata": {},
   "outputs": [
    {
     "name": "stdout",
     "output_type": "stream",
     "text": [
      "+---+---------+---+\n",
      "| id|     name|age|\n",
      "+---+---------+---+\n",
      "|  1| Vinicius| 30|\n",
      "|  2|Mary Jane| 25|\n",
      "+---+---------+---+\n",
      "\n"
     ]
    }
   ],
   "source": [
    "peopleDF.show()"
   ]
  },
  {
   "cell_type": "code",
   "execution_count": 15,
   "id": "1bcde84f-481e-4bf7-a8d3-d95272e06e7c",
   "metadata": {},
   "outputs": [
    {
     "name": "stdout",
     "output_type": "stream",
     "text": [
      "+---------+\n",
      "|carrilhao|\n",
      "+---------+\n",
      "|        0|\n",
      "|        1|\n",
      "|        2|\n",
      "|        3|\n",
      "|        4|\n",
      "|        5|\n",
      "|        6|\n",
      "|        7|\n",
      "|        8|\n",
      "|        9|\n",
      "+---------+\n",
      "\n"
     ]
    }
   ],
   "source": [
    "spark.range(10).toDF('carrilhao').show()"
   ]
  },
  {
   "cell_type": "code",
   "execution_count": 18,
   "id": "67aa5d53-014e-4ff3-971f-d1eca71d08d6",
   "metadata": {},
   "outputs": [],
   "source": [
    "text_file = spark.read.text(\"README.md\")"
   ]
  },
  {
   "cell_type": "code",
   "execution_count": 24,
   "id": "51cd805e-27fc-4c7f-82af-6a89b912fd5a",
   "metadata": {},
   "outputs": [
    {
     "name": "stdout",
     "output_type": "stream",
     "text": [
      "+---------------------------------------------------------------------------+\n",
      "|value                                                                      |\n",
      "+---------------------------------------------------------------------------+\n",
      "|# Repositório criado para armazenar trabalhos e criações referentes ao Ifes|\n",
      "|                                                                           |\n",
      "|                                                                           |\n",
      "|                                                                           |\n",
      "|## Sumário para os projetos                                                |\n",
      "+---------------------------------------------------------------------------+\n",
      "only showing top 5 rows\n",
      "\n"
     ]
    }
   ],
   "source": [
    "text_file.show(5, False)"
   ]
  },
  {
   "cell_type": "code",
   "execution_count": 29,
   "id": "3a48c63e-4544-4798-b60d-f340991eb980",
   "metadata": {},
   "outputs": [],
   "source": [
    "movies = spark.read.option(\"header\",\"true\").csv(\"beginning-apache-spark-3-main/beginning-apache-spark-3-main/chapter3/data/movies/movies.csv\")"
   ]
  },
  {
   "cell_type": "code",
   "execution_count": 32,
   "id": "cf35185e-88fb-4edb-9475-ddb7c69522df",
   "metadata": {},
   "outputs": [
    {
     "name": "stdout",
     "output_type": "stream",
     "text": [
      "+-----------------+---------------------------+----+\n",
      "|actor            |title                      |year|\n",
      "+-----------------+---------------------------+----+\n",
      "|McClure, Marc (I)|Freaky Friday              |2003|\n",
      "|McClure, Marc (I)|Coach Carter               |2005|\n",
      "|McClure, Marc (I)|Superman II                |1980|\n",
      "|McClure, Marc (I)|Apollo 13                  |1995|\n",
      "|McClure, Marc (I)|Superman                   |1978|\n",
      "|McClure, Marc (I)|Back to the Future         |1985|\n",
      "|McClure, Marc (I)|Back to the Future Part III|1990|\n",
      "|Cooper, Chris (I)|Me, Myself & Irene         |2000|\n",
      "|Cooper, Chris (I)|October Sky                |1999|\n",
      "|Cooper, Chris (I)|Capote                     |2005|\n",
      "|Cooper, Chris (I)|The Bourne Supremacy       |2004|\n",
      "|Cooper, Chris (I)|The Patriot                |2000|\n",
      "|Cooper, Chris (I)|The Town                   |2010|\n",
      "|Cooper, Chris (I)|Seabiscuit                 |2003|\n",
      "|Cooper, Chris (I)|A Time to Kill             |1996|\n",
      "|Cooper, Chris (I)|Where the Wild Things Are  |2009|\n",
      "|Cooper, Chris (I)|The Muppets                |2011|\n",
      "|Cooper, Chris (I)|American Beauty            |1999|\n",
      "|Cooper, Chris (I)|Syriana                    |2005|\n",
      "|Cooper, Chris (I)|The Horse Whisperer        |1998|\n",
      "+-----------------+---------------------------+----+\n",
      "only showing top 20 rows\n",
      "\n"
     ]
    }
   ],
   "source": [
    "movies.show(truncate=False)"
   ]
  },
  {
   "cell_type": "code",
   "execution_count": 33,
   "id": "b0a850ae-f7d3-43c6-8328-2b714fa549df",
   "metadata": {},
   "outputs": [
    {
     "name": "stdout",
     "output_type": "stream",
     "text": [
      "root\n",
      " |-- actor: string (nullable = true)\n",
      " |-- title: string (nullable = true)\n",
      " |-- year: string (nullable = true)\n",
      "\n"
     ]
    }
   ],
   "source": [
    "movies.printSchema()"
   ]
  },
  {
   "cell_type": "code",
   "execution_count": 34,
   "id": "31b833a1-5f25-4544-acc3-5f05d5ea315b",
   "metadata": {},
   "outputs": [],
   "source": [
    "movies2 = spark.read.option(\"header\",\"true\").option(\"inferSchema\",\"true\").csv(\"beginning-apache-spark-3-main/beginning-apache-spark-3-main/chapter3/data/movies/movies.csv\")"
   ]
  },
  {
   "cell_type": "code",
   "execution_count": 36,
   "id": "bbd66d8e-76de-4c0e-9b51-1260cec13aa9",
   "metadata": {},
   "outputs": [
    {
     "name": "stdout",
     "output_type": "stream",
     "text": [
      "root\n",
      " |-- actor: string (nullable = true)\n",
      " |-- title: string (nullable = true)\n",
      " |-- year: integer (nullable = true)\n",
      "\n"
     ]
    }
   ],
   "source": [
    "movies2.printSchema()"
   ]
  },
  {
   "cell_type": "code",
   "execution_count": 42,
   "id": "b0a4fb16-5709-474f-964f-bad501761b9e",
   "metadata": {},
   "outputs": [],
   "source": [
    "movie_schema = StructType([StructField(\"actor_name\", StringType(), True),\n",
    "                             StructField(\"movie_title\", StringType(), True),\n",
    "                             StructField(\"produced_year\", LongType(), True)])"
   ]
  },
  {
   "cell_type": "code",
   "execution_count": 43,
   "id": "1c3ff7a8-3b34-42a5-99a7-41c6753bd44a",
   "metadata": {},
   "outputs": [
    {
     "data": {
      "text/plain": [
       "StructType([StructField('actor_name', StringType(), True), StructField('movie_title', StringType(), True), StructField('produced_year', LongType(), True)])"
      ]
     },
     "execution_count": 43,
     "metadata": {},
     "output_type": "execute_result"
    }
   ],
   "source": [
    "movie_schema"
   ]
  },
  {
   "cell_type": "code",
   "execution_count": 44,
   "id": "4dfc08ee-3fd0-4e93-abb2-1e3033d007d8",
   "metadata": {},
   "outputs": [],
   "source": [
    "movies3 = spark.read.option(\"header\",\"true\").schema(movieSchema).csv(\"beginning-apache-spark-3-main/beginning-apache-spark-3-main/chapter3/data/movies/movies.csv\")"
   ]
  },
  {
   "cell_type": "code",
   "execution_count": 46,
   "id": "b02eaf06-31e8-422e-9564-d17d51ec9f6f",
   "metadata": {},
   "outputs": [
    {
     "name": "stdout",
     "output_type": "stream",
     "text": [
      "+-----------------+-------------+-------------+\n",
      "|       actor_name|  movie_title|produced_year|\n",
      "+-----------------+-------------+-------------+\n",
      "|McClure, Marc (I)|Freaky Friday|         2003|\n",
      "|McClure, Marc (I)| Coach Carter|         2005|\n",
      "|McClure, Marc (I)|  Superman II|         1980|\n",
      "|McClure, Marc (I)|    Apollo 13|         1995|\n",
      "|McClure, Marc (I)|     Superman|         1978|\n",
      "+-----------------+-------------+-------------+\n",
      "only showing top 5 rows\n",
      "\n"
     ]
    }
   ],
   "source": [
    "movies3.show(5)"
   ]
  },
  {
   "cell_type": "code",
   "execution_count": 47,
   "id": "54b45862-b899-4355-8847-7beb04d6d477",
   "metadata": {},
   "outputs": [],
   "source": [
    "movies4 = spark.read.option(\"header\",\"true\").option(\"sep\", \"\\t\").schema(movieSchema).csv(\"beginning-apache-spark-3-main/beginning-apache-spark-3-main/chapter3/data/movies/movies.tsv\")"
   ]
  },
  {
   "cell_type": "code",
   "execution_count": 51,
   "id": "d2fcac6e-b871-4c9a-b7ed-486a4a42ffed",
   "metadata": {},
   "outputs": [
    {
     "name": "stdout",
     "output_type": "stream",
     "text": [
      "root\n",
      " |-- actor_name: string (nullable = true)\n",
      " |-- movie_title: string (nullable = true)\n",
      " |-- produced_year: long (nullable = true)\n",
      "\n"
     ]
    }
   ],
   "source": [
    "movies4.printSchema()"
   ]
  },
  {
   "cell_type": "code",
   "execution_count": 53,
   "id": "5b83b7bf-743f-4a71-bcd0-fff3523a9aa4",
   "metadata": {},
   "outputs": [],
   "source": [
    "movies5 = spark.read.option(\"header\",\"true\").option(\"sep\", \"\\t\").schema(movieSchema).json(\"beginning-apache-spark-3-main/beginning-apache-spark-3-main/chapter3/data/movies/movies.json\")"
   ]
  },
  {
   "cell_type": "code",
   "execution_count": null,
   "id": "ab17904a-8fba-4171-89da-2a53b3b23f1d",
   "metadata": {},
   "outputs": [],
   "source": []
  },
  {
   "cell_type": "code",
   "execution_count": 54,
   "id": "319858c6-8f0a-4c71-a7f3-ba6f86efecd4",
   "metadata": {},
   "outputs": [
    {
     "name": "stdout",
     "output_type": "stream",
     "text": [
      "root\n",
      " |-- actor_name: string (nullable = true)\n",
      " |-- movie_title: string (nullable = true)\n",
      " |-- produced_year: long (nullable = true)\n",
      "\n"
     ]
    }
   ],
   "source": [
    "movies5.printSchema()"
   ]
  },
  {
   "cell_type": "code",
   "execution_count": 59,
   "id": "9aab5c94-a532-4a50-9984-1d5e3c811c33",
   "metadata": {},
   "outputs": [
    {
     "name": "stdout",
     "output_type": "stream",
     "text": [
      "+-----------------+---------------------------+-------------+\n",
      "|actor_name       |movie_title                |produced_year|\n",
      "+-----------------+---------------------------+-------------+\n",
      "|McClure, Marc (I)|Coach Carter               |2005         |\n",
      "|McClure, Marc (I)|Superman II                |1980         |\n",
      "|McClure, Marc (I)|Apollo 13                  |1995         |\n",
      "|McClure, Marc (I)|Superman                   |1978         |\n",
      "|McClure, Marc (I)|Back to the Future         |1985         |\n",
      "|McClure, Marc (I)|Back to the Future Part III|1990         |\n",
      "|Cooper, Chris (I)|Me, Myself & Irene         |2000         |\n",
      "|Cooper, Chris (I)|October Sky                |1999         |\n",
      "|Cooper, Chris (I)|Capote                     |2005         |\n",
      "|Cooper, Chris (I)|The Bourne Supremacy       |2004         |\n",
      "|Cooper, Chris (I)|The Patriot                |2000         |\n",
      "|Cooper, Chris (I)|The Town                   |2010         |\n",
      "|Cooper, Chris (I)|Seabiscuit                 |2003         |\n",
      "|Cooper, Chris (I)|A Time to Kill             |1996         |\n",
      "|Cooper, Chris (I)|Where the Wild Things Are  |2009         |\n",
      "|Cooper, Chris (I)|The Muppets                |2011         |\n",
      "|Cooper, Chris (I)|American Beauty            |1999         |\n",
      "|Cooper, Chris (I)|Syriana                    |2005         |\n",
      "|Cooper, Chris (I)|The Horse Whisperer        |1998         |\n",
      "|Cooper, Chris (I)|Jarhead                    |2005         |\n",
      "+-----------------+---------------------------+-------------+\n",
      "only showing top 20 rows\n",
      "\n"
     ]
    }
   ],
   "source": [
    "movies5.show(truncate=False)"
   ]
  },
  {
   "cell_type": "code",
   "execution_count": 61,
   "id": "19a5df3a-5472-43ef-b997-a7c0af16faf7",
   "metadata": {},
   "outputs": [],
   "source": [
    "movie_schema2 = StructType([StructField(\"actor_name\", StringType(), True),\n",
    "                           StructField(\"movie_title\", StringType(), True),\n",
    "                           StructField(\"produced_year\",  IntegerType(), True)])"
   ]
  },
  {
   "cell_type": "code",
   "execution_count": 62,
   "id": "f9a5bd09-6bc9-4c3a-86ea-f95260226ff1",
   "metadata": {},
   "outputs": [
    {
     "data": {
      "text/plain": [
       "StructType([StructField('actor_name', StringType(), True), StructField('movie_title', StringType(), True), StructField('produced_year', IntegerType(), True)])"
      ]
     },
     "execution_count": 62,
     "metadata": {},
     "output_type": "execute_result"
    }
   ],
   "source": [
    "movie_schema2"
   ]
  },
  {
   "cell_type": "code",
   "execution_count": 66,
   "id": "e9b28d4e-f0ce-4cf1-91cf-9e6ce6b23d8a",
   "metadata": {},
   "outputs": [],
   "source": [
    "badMovieSchema = StructType([\n",
    "                        StructField(\"actor_name\", BooleanType(), True),\n",
    "                        StructField(\"movie_title\", StringType(), True),\n",
    "                        StructField(\"produced_year\", IntegerType(), True)])"
   ]
  },
  {
   "cell_type": "code",
   "execution_count": 67,
   "id": "f2e671a3-4180-4e0a-8687-cc015dbd77f8",
   "metadata": {},
   "outputs": [
    {
     "data": {
      "text/plain": [
       "StructType([StructField('actor_name', BooleanType(), True), StructField('movie_title', StringType(), True), StructField('produced_year', IntegerType(), True)])"
      ]
     },
     "execution_count": 67,
     "metadata": {},
     "output_type": "execute_result"
    }
   ],
   "source": [
    "badMovieSchema"
   ]
  },
  {
   "cell_type": "code",
   "execution_count": 69,
   "id": "1c241f41-b27b-4066-af5a-1800a89a5fee",
   "metadata": {},
   "outputs": [],
   "source": [
    "movies6 = spark.read.option(\"header\",\"true\").option(\"sep\", \"\\t\").schema(badMovieSchema).json(\"beginning-apache-spark-3-main/beginning-apache-spark-3-main/chapter3/data/movies/movies.json\")"
   ]
  },
  {
   "cell_type": "code",
   "execution_count": 73,
   "id": "df1262ec-8307-4d0e-8ef9-0dd9ddc77924",
   "metadata": {},
   "outputs": [
    {
     "name": "stdout",
     "output_type": "stream",
     "text": [
      "+----------+------------------+-------------+\n",
      "|actor_name|       movie_title|produced_year|\n",
      "+----------+------------------+-------------+\n",
      "|      null|      Coach Carter|         2005|\n",
      "|      null|       Superman II|         1980|\n",
      "|      null|         Apollo 13|         1995|\n",
      "|      null|          Superman|         1978|\n",
      "|      null|Back to the Future|         1985|\n",
      "+----------+------------------+-------------+\n",
      "only showing top 5 rows\n",
      "\n"
     ]
    }
   ],
   "source": [
    "movies6.show(5)"
   ]
  },
  {
   "cell_type": "code",
   "execution_count": 79,
   "id": "ec82f455-3d73-4065-835f-ee23b8714fb2",
   "metadata": {},
   "outputs": [],
   "source": [
    "# movies7 = spark.read.option(\"header\",\"true\").option(\"sep\", \"\\t\").option(\"mode\", \"failFast\").schema(badMovieSchema).json(\"beginning-apache-spark-3-main/beginning-apache-spark-3-main/chapter3/data/movies/movies.json\")\n"
   ]
  },
  {
   "cell_type": "code",
   "execution_count": 80,
   "id": "d9ab5f8b-945e-45be-94a1-1c9b157413a2",
   "metadata": {},
   "outputs": [],
   "source": [
    "movies8 = spark.read.load(\"beginning-apache-spark-3-main/beginning-apache-spark-3-main/chapter3/data/movies/movies.parquet\")"
   ]
  },
  {
   "cell_type": "code",
   "execution_count": 83,
   "id": "13c5b7ee-513c-4383-ad6c-a000e0121bfe",
   "metadata": {},
   "outputs": [
    {
     "name": "stdout",
     "output_type": "stream",
     "text": [
      "+-----------------+------------------+-------------+\n",
      "|       actor_name|       movie_title|produced_year|\n",
      "+-----------------+------------------+-------------+\n",
      "|McClure, Marc (I)|      Coach Carter|         2005|\n",
      "|McClure, Marc (I)|       Superman II|         1980|\n",
      "|McClure, Marc (I)|         Apollo 13|         1995|\n",
      "|McClure, Marc (I)|          Superman|         1978|\n",
      "|McClure, Marc (I)|Back to the Future|         1985|\n",
      "+-----------------+------------------+-------------+\n",
      "only showing top 5 rows\n",
      "\n"
     ]
    }
   ],
   "source": [
    "movies8.show(5)"
   ]
  },
  {
   "cell_type": "code",
   "execution_count": 84,
   "id": "fd9c29c3-7b7d-4ec8-89ad-7bbb11822cd3",
   "metadata": {},
   "outputs": [
    {
     "name": "stdout",
     "output_type": "stream",
     "text": [
      "root\n",
      " |-- actor_name: string (nullable = true)\n",
      " |-- movie_title: string (nullable = true)\n",
      " |-- produced_year: long (nullable = true)\n",
      "\n"
     ]
    }
   ],
   "source": [
    "movies10 = spark.read.parquet(\"beginning-apache-spark-3-main/beginning-apache-spark-3-main/chapter3/data/movies/movies.parquet\")\n",
    "movies10.printSchema()"
   ]
  },
  {
   "cell_type": "code",
   "execution_count": 85,
   "id": "bcd4abc2-e851-4f1a-b3a4-2fbdf8e8be52",
   "metadata": {},
   "outputs": [
    {
     "name": "stdout",
     "output_type": "stream",
     "text": [
      "+-----------------+------------------+-------------+\n",
      "|       actor_name|       movie_title|produced_year|\n",
      "+-----------------+------------------+-------------+\n",
      "|McClure, Marc (I)|      Coach Carter|         2005|\n",
      "|McClure, Marc (I)|       Superman II|         1980|\n",
      "|McClure, Marc (I)|         Apollo 13|         1995|\n",
      "|McClure, Marc (I)|          Superman|         1978|\n",
      "|McClure, Marc (I)|Back to the Future|         1985|\n",
      "+-----------------+------------------+-------------+\n",
      "only showing top 5 rows\n",
      "\n"
     ]
    }
   ],
   "source": [
    "movies10.show(5)"
   ]
  },
  {
   "cell_type": "code",
   "execution_count": 93,
   "id": "0b77b030-aeca-4152-ac32-47146ad3ae6c",
   "metadata": {},
   "outputs": [],
   "source": [
    "spark = SparkSession.builder.config(\"spark.jars\", \"mysql-connector-java-8.0.13.jar\").getOrCreate()"
   ]
  },
  {
   "cell_type": "code",
   "execution_count": 94,
   "id": "c4f7de58-da0a-41a2-ad2c-9cc163bbc712",
   "metadata": {},
   "outputs": [
    {
     "data": {
      "text/html": [
       "\n",
       "            <div>\n",
       "                <p><b>SparkSession - in-memory</b></p>\n",
       "                \n",
       "        <div>\n",
       "            <p><b>SparkContext</b></p>\n",
       "\n",
       "            <p><a href=\"http://DESKTOP-JOOVP4D.mshome.net:4040\">Spark UI</a></p>\n",
       "\n",
       "            <dl>\n",
       "              <dt>Version</dt>\n",
       "                <dd><code>v3.3.1</code></dd>\n",
       "              <dt>Master</dt>\n",
       "                <dd><code>local[*]</code></dd>\n",
       "              <dt>AppName</dt>\n",
       "                <dd><code>pyspark-shell</code></dd>\n",
       "            </dl>\n",
       "        </div>\n",
       "        \n",
       "            </div>\n",
       "        "
      ],
      "text/plain": [
       "<pyspark.sql.session.SparkSession at 0x17ee780e170>"
      ]
     },
     "execution_count": 94,
     "metadata": {},
     "output_type": "execute_result"
    }
   ],
   "source": [
    "spark"
   ]
  },
  {
   "cell_type": "code",
   "execution_count": 95,
   "id": "fe389eea-8ade-4a59-8068-1c1e3eadba11",
   "metadata": {},
   "outputs": [
    {
     "ename": "Py4JJavaError",
     "evalue": "An error occurred while calling o803.jdbc.\n: java.lang.ClassNotFoundException: com.mysql.cj.jdbc.Driver\r\n\tat java.base/java.net.URLClassLoader.findClass(URLClassLoader.java:445)\r\n\tat java.base/java.lang.ClassLoader.loadClass(ClassLoader.java:588)\r\n\tat java.base/java.lang.ClassLoader.loadClass(ClassLoader.java:521)\r\n\tat org.apache.spark.sql.execution.datasources.jdbc.DriverRegistry$.register(DriverRegistry.scala:46)\r\n\tat org.apache.spark.sql.execution.datasources.jdbc.JDBCOptions.$anonfun$driverClass$1(JDBCOptions.scala:101)\r\n\tat org.apache.spark.sql.execution.datasources.jdbc.JDBCOptions.$anonfun$driverClass$1$adapted(JDBCOptions.scala:101)\r\n\tat scala.Option.foreach(Option.scala:407)\r\n\tat org.apache.spark.sql.execution.datasources.jdbc.JDBCOptions.<init>(JDBCOptions.scala:101)\r\n\tat org.apache.spark.sql.execution.datasources.jdbc.JDBCOptions.<init>(JDBCOptions.scala:39)\r\n\tat org.apache.spark.sql.execution.datasources.jdbc.JdbcRelationProvider.createRelation(JdbcRelationProvider.scala:34)\r\n\tat org.apache.spark.sql.execution.datasources.DataSource.resolveRelation(DataSource.scala:350)\r\n\tat org.apache.spark.sql.DataFrameReader.loadV1Source(DataFrameReader.scala:228)\r\n\tat org.apache.spark.sql.DataFrameReader.$anonfun$load$2(DataFrameReader.scala:210)\r\n\tat scala.Option.getOrElse(Option.scala:189)\r\n\tat org.apache.spark.sql.DataFrameReader.load(DataFrameReader.scala:210)\r\n\tat org.apache.spark.sql.DataFrameReader.load(DataFrameReader.scala:171)\r\n\tat org.apache.spark.sql.DataFrameReader.jdbc(DataFrameReader.scala:248)\r\n\tat java.base/jdk.internal.reflect.DirectMethodHandleAccessor.invoke(DirectMethodHandleAccessor.java:104)\r\n\tat java.base/java.lang.reflect.Method.invoke(Method.java:578)\r\n\tat py4j.reflection.MethodInvoker.invoke(MethodInvoker.java:244)\r\n\tat py4j.reflection.ReflectionEngine.invoke(ReflectionEngine.java:357)\r\n\tat py4j.Gateway.invoke(Gateway.java:282)\r\n\tat py4j.commands.AbstractCommand.invokeMethod(AbstractCommand.java:132)\r\n\tat py4j.commands.CallCommand.execute(CallCommand.java:79)\r\n\tat py4j.ClientServerConnection.waitForCommands(ClientServerConnection.java:182)\r\n\tat py4j.ClientServerConnection.run(ClientServerConnection.java:106)\r\n\tat java.base/java.lang.Thread.run(Thread.java:1589)\r\n",
     "output_type": "error",
     "traceback": [
      "\u001b[1;31m---------------------------------------------------------------------------\u001b[0m",
      "\u001b[1;31mPy4JJavaError\u001b[0m                             Traceback (most recent call last)",
      "Cell \u001b[1;32mIn [95], line 1\u001b[0m\n\u001b[1;32m----> 1\u001b[0m \u001b[43mspark\u001b[49m\u001b[38;5;241;43m.\u001b[39;49m\u001b[43mread\u001b[49m\u001b[38;5;241;43m.\u001b[39;49m\u001b[43mjdbc\u001b[49m\u001b[43m(\u001b[49m\u001b[38;5;124;43m\"\u001b[39;49m\u001b[38;5;124;43mjdbc:mysql://localhost:3306/emp\u001b[39;49m\u001b[38;5;124;43m\"\u001b[39;49m\u001b[43m,\u001b[49m\u001b[43m \u001b[49m\u001b[38;5;124;43m\"\u001b[39;49m\u001b[38;5;124;43memployee\u001b[39;49m\u001b[38;5;124;43m\"\u001b[39;49m\u001b[43m,\u001b[49m\u001b[43m \u001b[49m\u001b[43mproperties\u001b[49m\u001b[38;5;241;43m=\u001b[39;49m\u001b[43m{\u001b[49m\u001b[38;5;124;43m\"\u001b[39;49m\u001b[38;5;124;43muser\u001b[39;49m\u001b[38;5;124;43m\"\u001b[39;49m\u001b[43m:\u001b[49m\u001b[43m \u001b[49m\u001b[38;5;124;43m\"\u001b[39;49m\u001b[38;5;124;43mroot\u001b[39;49m\u001b[38;5;124;43m\"\u001b[39;49m\u001b[43m,\u001b[49m\u001b[43m \u001b[49m\u001b[38;5;124;43m\"\u001b[39;49m\u001b[38;5;124;43mpassword\u001b[39;49m\u001b[38;5;124;43m\"\u001b[39;49m\u001b[43m:\u001b[49m\u001b[43m \u001b[49m\u001b[38;5;124;43m\"\u001b[39;49m\u001b[38;5;124;43mroot\u001b[39;49m\u001b[38;5;124;43m\"\u001b[39;49m\u001b[43m,\u001b[49m\u001b[43m \u001b[49m\u001b[38;5;124;43m\"\u001b[39;49m\u001b[38;5;124;43mdriver\u001b[39;49m\u001b[38;5;124;43m\"\u001b[39;49m\u001b[43m:\u001b[49m\u001b[38;5;124;43m\"\u001b[39;49m\u001b[38;5;124;43mcom.mysql.cj.jdbc.Driver\u001b[39;49m\u001b[38;5;124;43m\"\u001b[39;49m\u001b[43m}\u001b[49m\u001b[43m)\u001b[49m\n",
      "File \u001b[1;32m~\\AppData\\Local\\Programs\\Python\\Python310\\lib\\site-packages\\pyspark\\sql\\readwriter.py:716\u001b[0m, in \u001b[0;36mDataFrameReader.jdbc\u001b[1;34m(self, url, table, column, lowerBound, upperBound, numPartitions, predicates, properties)\u001b[0m\n\u001b[0;32m    714\u001b[0m     jpredicates \u001b[38;5;241m=\u001b[39m utils\u001b[38;5;241m.\u001b[39mtoJArray(gateway, gateway\u001b[38;5;241m.\u001b[39mjvm\u001b[38;5;241m.\u001b[39mjava\u001b[38;5;241m.\u001b[39mlang\u001b[38;5;241m.\u001b[39mString, predicates)\n\u001b[0;32m    715\u001b[0m     \u001b[38;5;28;01mreturn\u001b[39;00m \u001b[38;5;28mself\u001b[39m\u001b[38;5;241m.\u001b[39m_df(\u001b[38;5;28mself\u001b[39m\u001b[38;5;241m.\u001b[39m_jreader\u001b[38;5;241m.\u001b[39mjdbc(url, table, jpredicates, jprop))\n\u001b[1;32m--> 716\u001b[0m \u001b[38;5;28;01mreturn\u001b[39;00m \u001b[38;5;28mself\u001b[39m\u001b[38;5;241m.\u001b[39m_df(\u001b[38;5;28;43mself\u001b[39;49m\u001b[38;5;241;43m.\u001b[39;49m\u001b[43m_jreader\u001b[49m\u001b[38;5;241;43m.\u001b[39;49m\u001b[43mjdbc\u001b[49m\u001b[43m(\u001b[49m\u001b[43murl\u001b[49m\u001b[43m,\u001b[49m\u001b[43m \u001b[49m\u001b[43mtable\u001b[49m\u001b[43m,\u001b[49m\u001b[43m \u001b[49m\u001b[43mjprop\u001b[49m\u001b[43m)\u001b[49m)\n",
      "File \u001b[1;32m~\\AppData\\Local\\Programs\\Python\\Python310\\lib\\site-packages\\py4j\\java_gateway.py:1321\u001b[0m, in \u001b[0;36mJavaMember.__call__\u001b[1;34m(self, *args)\u001b[0m\n\u001b[0;32m   1315\u001b[0m command \u001b[38;5;241m=\u001b[39m proto\u001b[38;5;241m.\u001b[39mCALL_COMMAND_NAME \u001b[38;5;241m+\u001b[39m\\\n\u001b[0;32m   1316\u001b[0m     \u001b[38;5;28mself\u001b[39m\u001b[38;5;241m.\u001b[39mcommand_header \u001b[38;5;241m+\u001b[39m\\\n\u001b[0;32m   1317\u001b[0m     args_command \u001b[38;5;241m+\u001b[39m\\\n\u001b[0;32m   1318\u001b[0m     proto\u001b[38;5;241m.\u001b[39mEND_COMMAND_PART\n\u001b[0;32m   1320\u001b[0m answer \u001b[38;5;241m=\u001b[39m \u001b[38;5;28mself\u001b[39m\u001b[38;5;241m.\u001b[39mgateway_client\u001b[38;5;241m.\u001b[39msend_command(command)\n\u001b[1;32m-> 1321\u001b[0m return_value \u001b[38;5;241m=\u001b[39m \u001b[43mget_return_value\u001b[49m\u001b[43m(\u001b[49m\n\u001b[0;32m   1322\u001b[0m \u001b[43m    \u001b[49m\u001b[43manswer\u001b[49m\u001b[43m,\u001b[49m\u001b[43m \u001b[49m\u001b[38;5;28;43mself\u001b[39;49m\u001b[38;5;241;43m.\u001b[39;49m\u001b[43mgateway_client\u001b[49m\u001b[43m,\u001b[49m\u001b[43m \u001b[49m\u001b[38;5;28;43mself\u001b[39;49m\u001b[38;5;241;43m.\u001b[39;49m\u001b[43mtarget_id\u001b[49m\u001b[43m,\u001b[49m\u001b[43m \u001b[49m\u001b[38;5;28;43mself\u001b[39;49m\u001b[38;5;241;43m.\u001b[39;49m\u001b[43mname\u001b[49m\u001b[43m)\u001b[49m\n\u001b[0;32m   1324\u001b[0m \u001b[38;5;28;01mfor\u001b[39;00m temp_arg \u001b[38;5;129;01min\u001b[39;00m temp_args:\n\u001b[0;32m   1325\u001b[0m     temp_arg\u001b[38;5;241m.\u001b[39m_detach()\n",
      "File \u001b[1;32m~\\AppData\\Local\\Programs\\Python\\Python310\\lib\\site-packages\\pyspark\\sql\\utils.py:190\u001b[0m, in \u001b[0;36mcapture_sql_exception.<locals>.deco\u001b[1;34m(*a, **kw)\u001b[0m\n\u001b[0;32m    188\u001b[0m \u001b[38;5;28;01mdef\u001b[39;00m \u001b[38;5;21mdeco\u001b[39m(\u001b[38;5;241m*\u001b[39ma: Any, \u001b[38;5;241m*\u001b[39m\u001b[38;5;241m*\u001b[39mkw: Any) \u001b[38;5;241m-\u001b[39m\u001b[38;5;241m>\u001b[39m Any:\n\u001b[0;32m    189\u001b[0m     \u001b[38;5;28;01mtry\u001b[39;00m:\n\u001b[1;32m--> 190\u001b[0m         \u001b[38;5;28;01mreturn\u001b[39;00m f(\u001b[38;5;241m*\u001b[39ma, \u001b[38;5;241m*\u001b[39m\u001b[38;5;241m*\u001b[39mkw)\n\u001b[0;32m    191\u001b[0m     \u001b[38;5;28;01mexcept\u001b[39;00m Py4JJavaError \u001b[38;5;28;01mas\u001b[39;00m e:\n\u001b[0;32m    192\u001b[0m         converted \u001b[38;5;241m=\u001b[39m convert_exception(e\u001b[38;5;241m.\u001b[39mjava_exception)\n",
      "File \u001b[1;32m~\\AppData\\Local\\Programs\\Python\\Python310\\lib\\site-packages\\py4j\\protocol.py:326\u001b[0m, in \u001b[0;36mget_return_value\u001b[1;34m(answer, gateway_client, target_id, name)\u001b[0m\n\u001b[0;32m    324\u001b[0m value \u001b[38;5;241m=\u001b[39m OUTPUT_CONVERTER[\u001b[38;5;28mtype\u001b[39m](answer[\u001b[38;5;241m2\u001b[39m:], gateway_client)\n\u001b[0;32m    325\u001b[0m \u001b[38;5;28;01mif\u001b[39;00m answer[\u001b[38;5;241m1\u001b[39m] \u001b[38;5;241m==\u001b[39m REFERENCE_TYPE:\n\u001b[1;32m--> 326\u001b[0m     \u001b[38;5;28;01mraise\u001b[39;00m Py4JJavaError(\n\u001b[0;32m    327\u001b[0m         \u001b[38;5;124m\"\u001b[39m\u001b[38;5;124mAn error occurred while calling \u001b[39m\u001b[38;5;132;01m{0}\u001b[39;00m\u001b[38;5;132;01m{1}\u001b[39;00m\u001b[38;5;132;01m{2}\u001b[39;00m\u001b[38;5;124m.\u001b[39m\u001b[38;5;130;01m\\n\u001b[39;00m\u001b[38;5;124m\"\u001b[39m\u001b[38;5;241m.\u001b[39m\n\u001b[0;32m    328\u001b[0m         \u001b[38;5;28mformat\u001b[39m(target_id, \u001b[38;5;124m\"\u001b[39m\u001b[38;5;124m.\u001b[39m\u001b[38;5;124m\"\u001b[39m, name), value)\n\u001b[0;32m    329\u001b[0m \u001b[38;5;28;01melse\u001b[39;00m:\n\u001b[0;32m    330\u001b[0m     \u001b[38;5;28;01mraise\u001b[39;00m Py4JError(\n\u001b[0;32m    331\u001b[0m         \u001b[38;5;124m\"\u001b[39m\u001b[38;5;124mAn error occurred while calling \u001b[39m\u001b[38;5;132;01m{0}\u001b[39;00m\u001b[38;5;132;01m{1}\u001b[39;00m\u001b[38;5;132;01m{2}\u001b[39;00m\u001b[38;5;124m. Trace:\u001b[39m\u001b[38;5;130;01m\\n\u001b[39;00m\u001b[38;5;132;01m{3}\u001b[39;00m\u001b[38;5;130;01m\\n\u001b[39;00m\u001b[38;5;124m\"\u001b[39m\u001b[38;5;241m.\u001b[39m\n\u001b[0;32m    332\u001b[0m         \u001b[38;5;28mformat\u001b[39m(target_id, \u001b[38;5;124m\"\u001b[39m\u001b[38;5;124m.\u001b[39m\u001b[38;5;124m\"\u001b[39m, name, value))\n",
      "\u001b[1;31mPy4JJavaError\u001b[0m: An error occurred while calling o803.jdbc.\n: java.lang.ClassNotFoundException: com.mysql.cj.jdbc.Driver\r\n\tat java.base/java.net.URLClassLoader.findClass(URLClassLoader.java:445)\r\n\tat java.base/java.lang.ClassLoader.loadClass(ClassLoader.java:588)\r\n\tat java.base/java.lang.ClassLoader.loadClass(ClassLoader.java:521)\r\n\tat org.apache.spark.sql.execution.datasources.jdbc.DriverRegistry$.register(DriverRegistry.scala:46)\r\n\tat org.apache.spark.sql.execution.datasources.jdbc.JDBCOptions.$anonfun$driverClass$1(JDBCOptions.scala:101)\r\n\tat org.apache.spark.sql.execution.datasources.jdbc.JDBCOptions.$anonfun$driverClass$1$adapted(JDBCOptions.scala:101)\r\n\tat scala.Option.foreach(Option.scala:407)\r\n\tat org.apache.spark.sql.execution.datasources.jdbc.JDBCOptions.<init>(JDBCOptions.scala:101)\r\n\tat org.apache.spark.sql.execution.datasources.jdbc.JDBCOptions.<init>(JDBCOptions.scala:39)\r\n\tat org.apache.spark.sql.execution.datasources.jdbc.JdbcRelationProvider.createRelation(JdbcRelationProvider.scala:34)\r\n\tat org.apache.spark.sql.execution.datasources.DataSource.resolveRelation(DataSource.scala:350)\r\n\tat org.apache.spark.sql.DataFrameReader.loadV1Source(DataFrameReader.scala:228)\r\n\tat org.apache.spark.sql.DataFrameReader.$anonfun$load$2(DataFrameReader.scala:210)\r\n\tat scala.Option.getOrElse(Option.scala:189)\r\n\tat org.apache.spark.sql.DataFrameReader.load(DataFrameReader.scala:210)\r\n\tat org.apache.spark.sql.DataFrameReader.load(DataFrameReader.scala:171)\r\n\tat org.apache.spark.sql.DataFrameReader.jdbc(DataFrameReader.scala:248)\r\n\tat java.base/jdk.internal.reflect.DirectMethodHandleAccessor.invoke(DirectMethodHandleAccessor.java:104)\r\n\tat java.base/java.lang.reflect.Method.invoke(Method.java:578)\r\n\tat py4j.reflection.MethodInvoker.invoke(MethodInvoker.java:244)\r\n\tat py4j.reflection.ReflectionEngine.invoke(ReflectionEngine.java:357)\r\n\tat py4j.Gateway.invoke(Gateway.java:282)\r\n\tat py4j.commands.AbstractCommand.invokeMethod(AbstractCommand.java:132)\r\n\tat py4j.commands.CallCommand.execute(CallCommand.java:79)\r\n\tat py4j.ClientServerConnection.waitForCommands(ClientServerConnection.java:182)\r\n\tat py4j.ClientServerConnection.run(ClientServerConnection.java:106)\r\n\tat java.base/java.lang.Thread.run(Thread.java:1589)\r\n"
     ]
    }
   ],
   "source": [
    "spark.read.jdbc(\"jdbc:mysql://localhost:3306/emp\", \"employee\", properties={\"user\": \"root\", \"password\": \"root\", \"driver\":\"com.mysql.cj.jdbc.Driver\"})"
   ]
  },
  {
   "cell_type": "code",
   "execution_count": null,
   "id": "76adb6ce-b46a-4dcc-84de-e983f22fedc5",
   "metadata": {},
   "outputs": [],
   "source": []
  }
 ],
 "metadata": {
  "kernelspec": {
   "display_name": "Python 3 (ipykernel)",
   "language": "python",
   "name": "python3"
  },
  "language_info": {
   "codemirror_mode": {
    "name": "ipython",
    "version": 3
   },
   "file_extension": ".py",
   "mimetype": "text/x-python",
   "name": "python",
   "nbconvert_exporter": "python",
   "pygments_lexer": "ipython3",
   "version": "3.10.7"
  }
 },
 "nbformat": 4,
 "nbformat_minor": 5
}
