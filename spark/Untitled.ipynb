{
 "cells": [
  {
   "cell_type": "code",
   "execution_count": 9,
   "id": "802b980d-311a-40ee-b1b2-1ad260a2347e",
   "metadata": {},
   "outputs": [],
   "source": [
    "from pyspark import SparkContext, SparkConf\n",
    "from pyspark.sql import SparkSession, Row, types\n",
    "from pyspark.sql.types import *"
   ]
  },
  {
   "cell_type": "code",
   "execution_count": 10,
   "id": "f8608500-4b63-43f9-8e68-09bb1c3d290c",
   "metadata": {},
   "outputs": [],
   "source": [
    "import os\n",
    "import sys\n",
    "from pyspark.sql import SparkSession\n",
    "\n",
    "os.environ['PYSPARK_PYTHON'] = sys.executable\n",
    "os.environ['PYSPARK_DRIVER_PYTHON'] = sys.executable\n",
    "spark = SparkSession.builder.getOrCreate()"
   ]
  },
  {
   "cell_type": "code",
   "execution_count": 11,
   "id": "77fe1dc5-c2b8-4397-ba60-8a05781fa75c",
   "metadata": {},
   "outputs": [],
   "source": [
    "sc = SparkContext.getOrCreate()"
   ]
  },
  {
   "cell_type": "code",
   "execution_count": 12,
   "id": "729e37f8-07e6-4849-a4e5-d65174e8c4e8",
   "metadata": {},
   "outputs": [],
   "source": [
    "spark = SparkSession(sc)"
   ]
  },
  {
   "cell_type": "code",
   "execution_count": 13,
   "id": "cb17142a-f919-4603-9511-bcaa583f8352",
   "metadata": {},
   "outputs": [],
   "source": [
    "func = lambda x: (x, x+4*100)\n",
    "iterator = range(10)\n",
    "trem = list(map(func, iterator))\n",
    "rdd = sc.parallelize(trem)\n"
   ]
  },
  {
   "cell_type": "code",
   "execution_count": 14,
   "id": "88e14c23-99ba-4d2c-8820-edd4bed5b813",
   "metadata": {},
   "outputs": [
    {
     "data": {
      "text/plain": [
       "[(0, 400),\n",
       " (1, 401),\n",
       " (2, 402),\n",
       " (3, 403),\n",
       " (4, 404),\n",
       " (5, 405),\n",
       " (6, 406),\n",
       " (7, 407),\n",
       " (8, 408),\n",
       " (9, 409)]"
      ]
     },
     "execution_count": 14,
     "metadata": {},
     "output_type": "execute_result"
    }
   ],
   "source": [
    "trem"
   ]
  },
  {
   "cell_type": "code",
   "execution_count": 15,
   "id": "1d66e75e-6cd7-4e39-8ef5-2f9fe8b48530",
   "metadata": {},
   "outputs": [
    {
     "data": {
      "text/plain": [
       "ParallelCollectionRDD[0] at readRDDFromFile at PythonRDD.scala:274"
      ]
     },
     "execution_count": 15,
     "metadata": {},
     "output_type": "execute_result"
    }
   ],
   "source": [
    "rdd"
   ]
  },
  {
   "cell_type": "code",
   "execution_count": 16,
   "id": "2f2121af-1c29-41f7-9ce9-ad546b9bc305",
   "metadata": {},
   "outputs": [],
   "source": [
    "kvDF = rdd.toDF([\"key\", \"value\"])"
   ]
  },
  {
   "cell_type": "code",
   "execution_count": 17,
   "id": "58f7ffc9-fd47-4269-85d4-1f9e87505bfb",
   "metadata": {},
   "outputs": [
    {
     "name": "stdout",
     "output_type": "stream",
     "text": [
      "root\n",
      " |-- key: long (nullable = true)\n",
      " |-- value: long (nullable = true)\n",
      "\n"
     ]
    }
   ],
   "source": [
    "kvDF.printSchema()"
   ]
  },
  {
   "cell_type": "code",
   "execution_count": 18,
   "id": "cb0fdba3-5d31-4e03-9ba2-84255f813b73",
   "metadata": {},
   "outputs": [
    {
     "name": "stdout",
     "output_type": "stream",
     "text": [
      "+---+-----+\n",
      "|key|value|\n",
      "+---+-----+\n",
      "|  0|  400|\n",
      "|  1|  401|\n",
      "|  2|  402|\n",
      "|  3|  403|\n",
      "|  4|  404|\n",
      "+---+-----+\n",
      "only showing top 5 rows\n",
      "\n"
     ]
    }
   ],
   "source": [
    "kvDF.show(5)"
   ]
  },
  {
   "cell_type": "code",
   "execution_count": 19,
   "id": "956202f1-67d0-4990-8859-530bb886e046",
   "metadata": {},
   "outputs": [],
   "source": [
    "list_of_people = [Row(1, 'Vinicius', 30),\n",
    "                 Row(2, 'Mary Jane', 25)]\n",
    "peopleRDD = sc.parallelize(list_of_people)"
   ]
  },
  {
   "cell_type": "code",
   "execution_count": 20,
   "id": "1ca18352-8fe9-45eb-929c-d87b3536c362",
   "metadata": {},
   "outputs": [],
   "source": [
    "schema = StructType([StructField(\"id\", LongType(), True),\n",
    "                    StructField(\"name\", StringType(), True),\n",
    "                    StructField(\"age\", LongType(), True)])"
   ]
  },
  {
   "cell_type": "code",
   "execution_count": 21,
   "id": "13ccd00d-3a3e-42c9-a67e-b70dbb356896",
   "metadata": {},
   "outputs": [],
   "source": [
    "peopleDF = spark.createDataFrame(peopleRDD, schema)"
   ]
  },
  {
   "cell_type": "code",
   "execution_count": 22,
   "id": "619c9ad7-8087-414d-a063-96b393d2522d",
   "metadata": {},
   "outputs": [
    {
     "name": "stdout",
     "output_type": "stream",
     "text": [
      "+---+---------+---+\n",
      "| id|     name|age|\n",
      "+---+---------+---+\n",
      "|  1| Vinicius| 30|\n",
      "|  2|Mary Jane| 25|\n",
      "+---+---------+---+\n",
      "\n"
     ]
    }
   ],
   "source": [
    "peopleDF.show()"
   ]
  },
  {
   "cell_type": "code",
   "execution_count": 23,
   "id": "1bcde84f-481e-4bf7-a8d3-d95272e06e7c",
   "metadata": {},
   "outputs": [
    {
     "name": "stdout",
     "output_type": "stream",
     "text": [
      "+---------+\n",
      "|carrilhao|\n",
      "+---------+\n",
      "|        0|\n",
      "|        1|\n",
      "|        2|\n",
      "|        3|\n",
      "|        4|\n",
      "|        5|\n",
      "|        6|\n",
      "|        7|\n",
      "|        8|\n",
      "|        9|\n",
      "+---------+\n",
      "\n"
     ]
    }
   ],
   "source": [
    "spark.range(10).toDF('carrilhao').show()"
   ]
  },
  {
   "cell_type": "code",
   "execution_count": 24,
   "id": "67aa5d53-014e-4ff3-971f-d1eca71d08d6",
   "metadata": {},
   "outputs": [],
   "source": [
    "text_file = spark.read.text(\"README.md\")"
   ]
  },
  {
   "cell_type": "code",
   "execution_count": 25,
   "id": "51cd805e-27fc-4c7f-82af-6a89b912fd5a",
   "metadata": {},
   "outputs": [
    {
     "name": "stdout",
     "output_type": "stream",
     "text": [
      "+---------------------------------------------------------------------------+\n",
      "|value                                                                      |\n",
      "+---------------------------------------------------------------------------+\n",
      "|# Repositório criado para armazenar trabalhos e criações referentes ao Ifes|\n",
      "|                                                                           |\n",
      "|                                                                           |\n",
      "|                                                                           |\n",
      "|## Sumário para os projetos                                                |\n",
      "+---------------------------------------------------------------------------+\n",
      "only showing top 5 rows\n",
      "\n"
     ]
    }
   ],
   "source": [
    "text_file.show(5, False)"
   ]
  },
  {
   "cell_type": "code",
   "execution_count": 26,
   "id": "3a48c63e-4544-4798-b60d-f340991eb980",
   "metadata": {},
   "outputs": [],
   "source": [
    "movies = spark.read.option(\"header\",\"true\").csv(\"beginning-apache-spark-3-main/beginning-apache-spark-3-main/chapter3/data/movies/movies.csv\")"
   ]
  },
  {
   "cell_type": "code",
   "execution_count": 27,
   "id": "cf35185e-88fb-4edb-9475-ddb7c69522df",
   "metadata": {},
   "outputs": [
    {
     "name": "stdout",
     "output_type": "stream",
     "text": [
      "+-----------------+---------------------------+----+\n",
      "|actor            |title                      |year|\n",
      "+-----------------+---------------------------+----+\n",
      "|McClure, Marc (I)|Freaky Friday              |2003|\n",
      "|McClure, Marc (I)|Coach Carter               |2005|\n",
      "|McClure, Marc (I)|Superman II                |1980|\n",
      "|McClure, Marc (I)|Apollo 13                  |1995|\n",
      "|McClure, Marc (I)|Superman                   |1978|\n",
      "|McClure, Marc (I)|Back to the Future         |1985|\n",
      "|McClure, Marc (I)|Back to the Future Part III|1990|\n",
      "|Cooper, Chris (I)|Me, Myself & Irene         |2000|\n",
      "|Cooper, Chris (I)|October Sky                |1999|\n",
      "|Cooper, Chris (I)|Capote                     |2005|\n",
      "|Cooper, Chris (I)|The Bourne Supremacy       |2004|\n",
      "|Cooper, Chris (I)|The Patriot                |2000|\n",
      "|Cooper, Chris (I)|The Town                   |2010|\n",
      "|Cooper, Chris (I)|Seabiscuit                 |2003|\n",
      "|Cooper, Chris (I)|A Time to Kill             |1996|\n",
      "|Cooper, Chris (I)|Where the Wild Things Are  |2009|\n",
      "|Cooper, Chris (I)|The Muppets                |2011|\n",
      "|Cooper, Chris (I)|American Beauty            |1999|\n",
      "|Cooper, Chris (I)|Syriana                    |2005|\n",
      "|Cooper, Chris (I)|The Horse Whisperer        |1998|\n",
      "+-----------------+---------------------------+----+\n",
      "only showing top 20 rows\n",
      "\n"
     ]
    }
   ],
   "source": [
    "movies.show(truncate=False)"
   ]
  },
  {
   "cell_type": "code",
   "execution_count": 28,
   "id": "b0a850ae-f7d3-43c6-8328-2b714fa549df",
   "metadata": {},
   "outputs": [
    {
     "name": "stdout",
     "output_type": "stream",
     "text": [
      "root\n",
      " |-- actor: string (nullable = true)\n",
      " |-- title: string (nullable = true)\n",
      " |-- year: string (nullable = true)\n",
      "\n"
     ]
    }
   ],
   "source": [
    "movies.printSchema()"
   ]
  },
  {
   "cell_type": "code",
   "execution_count": 29,
   "id": "31b833a1-5f25-4544-acc3-5f05d5ea315b",
   "metadata": {},
   "outputs": [],
   "source": [
    "movies2 = spark.read.option(\"header\",\"true\").option(\"inferSchema\",\"true\").csv(\"beginning-apache-spark-3-main/beginning-apache-spark-3-main/chapter3/data/movies/movies.csv\")"
   ]
  },
  {
   "cell_type": "code",
   "execution_count": 30,
   "id": "bbd66d8e-76de-4c0e-9b51-1260cec13aa9",
   "metadata": {},
   "outputs": [
    {
     "name": "stdout",
     "output_type": "stream",
     "text": [
      "root\n",
      " |-- actor: string (nullable = true)\n",
      " |-- title: string (nullable = true)\n",
      " |-- year: integer (nullable = true)\n",
      "\n"
     ]
    }
   ],
   "source": [
    "movies2.printSchema()"
   ]
  },
  {
   "cell_type": "code",
   "execution_count": 34,
   "id": "b0a4fb16-5709-474f-964f-bad501761b9e",
   "metadata": {},
   "outputs": [],
   "source": [
    "movie_schema = StructType([StructField(\"actor_name\", StringType(), True),\n",
    "                             StructField(\"movie_title\", StringType(), True),\n",
    "                             StructField(\"produced_year\", LongType(), True)])"
   ]
  },
  {
   "cell_type": "code",
   "execution_count": 35,
   "id": "1c3ff7a8-3b34-42a5-99a7-41c6753bd44a",
   "metadata": {},
   "outputs": [
    {
     "data": {
      "text/plain": [
       "StructType([StructField('actor_name', StringType(), True), StructField('movie_title', StringType(), True), StructField('produced_year', LongType(), True)])"
      ]
     },
     "execution_count": 35,
     "metadata": {},
     "output_type": "execute_result"
    }
   ],
   "source": [
    "movie_schema"
   ]
  },
  {
   "cell_type": "code",
   "execution_count": 36,
   "id": "4dfc08ee-3fd0-4e93-abb2-1e3033d007d8",
   "metadata": {},
   "outputs": [],
   "source": [
    "movies3 = spark.read.option(\"header\",\"true\").schema(movie_schema).csv(\"beginning-apache-spark-3-main/beginning-apache-spark-3-main/chapter3/data/movies/movies.csv\")"
   ]
  },
  {
   "cell_type": "code",
   "execution_count": 37,
   "id": "b02eaf06-31e8-422e-9564-d17d51ec9f6f",
   "metadata": {},
   "outputs": [
    {
     "name": "stdout",
     "output_type": "stream",
     "text": [
      "+-----------------+-------------+-------------+\n",
      "|       actor_name|  movie_title|produced_year|\n",
      "+-----------------+-------------+-------------+\n",
      "|McClure, Marc (I)|Freaky Friday|         2003|\n",
      "|McClure, Marc (I)| Coach Carter|         2005|\n",
      "|McClure, Marc (I)|  Superman II|         1980|\n",
      "|McClure, Marc (I)|    Apollo 13|         1995|\n",
      "|McClure, Marc (I)|     Superman|         1978|\n",
      "+-----------------+-------------+-------------+\n",
      "only showing top 5 rows\n",
      "\n"
     ]
    }
   ],
   "source": [
    "movies3.show(5)"
   ]
  },
  {
   "cell_type": "code",
   "execution_count": 42,
   "id": "54b45862-b899-4355-8847-7beb04d6d477",
   "metadata": {},
   "outputs": [],
   "source": [
    "movies4 = spark.read.option(\"header\",\"true\").option(\"sep\", \"\\t\").schema(movie_schema).csv(\"beginning-apache-spark-3-main/beginning-apache-spark-3-main/chapter3/data/movies/movies.tsv\")"
   ]
  },
  {
   "cell_type": "code",
   "execution_count": 43,
   "id": "d2fcac6e-b871-4c9a-b7ed-486a4a42ffed",
   "metadata": {},
   "outputs": [
    {
     "name": "stdout",
     "output_type": "stream",
     "text": [
      "root\n",
      " |-- actor_name: string (nullable = true)\n",
      " |-- movie_title: string (nullable = true)\n",
      " |-- produced_year: long (nullable = true)\n",
      "\n"
     ]
    }
   ],
   "source": [
    "movies4.printSchema()"
   ]
  },
  {
   "cell_type": "code",
   "execution_count": 44,
   "id": "5b83b7bf-743f-4a71-bcd0-fff3523a9aa4",
   "metadata": {},
   "outputs": [],
   "source": [
    "movies5 = spark.read.option(\"header\",\"true\").option(\"sep\", \"\\t\").schema(movie_schema).json(\"beginning-apache-spark-3-main/beginning-apache-spark-3-main/chapter3/data/movies/movies.json\")"
   ]
  },
  {
   "cell_type": "code",
   "execution_count": null,
   "id": "ab17904a-8fba-4171-89da-2a53b3b23f1d",
   "metadata": {},
   "outputs": [],
   "source": []
  },
  {
   "cell_type": "code",
   "execution_count": 45,
   "id": "319858c6-8f0a-4c71-a7f3-ba6f86efecd4",
   "metadata": {},
   "outputs": [
    {
     "name": "stdout",
     "output_type": "stream",
     "text": [
      "root\n",
      " |-- actor_name: string (nullable = true)\n",
      " |-- movie_title: string (nullable = true)\n",
      " |-- produced_year: long (nullable = true)\n",
      "\n"
     ]
    }
   ],
   "source": [
    "movies5.printSchema()"
   ]
  },
  {
   "cell_type": "code",
   "execution_count": 46,
   "id": "9aab5c94-a532-4a50-9984-1d5e3c811c33",
   "metadata": {},
   "outputs": [
    {
     "name": "stdout",
     "output_type": "stream",
     "text": [
      "+-----------------+---------------------------+-------------+\n",
      "|actor_name       |movie_title                |produced_year|\n",
      "+-----------------+---------------------------+-------------+\n",
      "|McClure, Marc (I)|Coach Carter               |2005         |\n",
      "|McClure, Marc (I)|Superman II                |1980         |\n",
      "|McClure, Marc (I)|Apollo 13                  |1995         |\n",
      "|McClure, Marc (I)|Superman                   |1978         |\n",
      "|McClure, Marc (I)|Back to the Future         |1985         |\n",
      "|McClure, Marc (I)|Back to the Future Part III|1990         |\n",
      "|Cooper, Chris (I)|Me, Myself & Irene         |2000         |\n",
      "|Cooper, Chris (I)|October Sky                |1999         |\n",
      "|Cooper, Chris (I)|Capote                     |2005         |\n",
      "|Cooper, Chris (I)|The Bourne Supremacy       |2004         |\n",
      "|Cooper, Chris (I)|The Patriot                |2000         |\n",
      "|Cooper, Chris (I)|The Town                   |2010         |\n",
      "|Cooper, Chris (I)|Seabiscuit                 |2003         |\n",
      "|Cooper, Chris (I)|A Time to Kill             |1996         |\n",
      "|Cooper, Chris (I)|Where the Wild Things Are  |2009         |\n",
      "|Cooper, Chris (I)|The Muppets                |2011         |\n",
      "|Cooper, Chris (I)|American Beauty            |1999         |\n",
      "|Cooper, Chris (I)|Syriana                    |2005         |\n",
      "|Cooper, Chris (I)|The Horse Whisperer        |1998         |\n",
      "|Cooper, Chris (I)|Jarhead                    |2005         |\n",
      "+-----------------+---------------------------+-------------+\n",
      "only showing top 20 rows\n",
      "\n"
     ]
    }
   ],
   "source": [
    "movies5.show(truncate=False)"
   ]
  },
  {
   "cell_type": "code",
   "execution_count": 47,
   "id": "19a5df3a-5472-43ef-b997-a7c0af16faf7",
   "metadata": {},
   "outputs": [],
   "source": [
    "movie_schema2 = StructType([StructField(\"actor_name\", StringType(), True),\n",
    "                           StructField(\"movie_title\", StringType(), True),\n",
    "                           StructField(\"produced_year\",  IntegerType(), True)])"
   ]
  },
  {
   "cell_type": "code",
   "execution_count": 48,
   "id": "f9a5bd09-6bc9-4c3a-86ea-f95260226ff1",
   "metadata": {},
   "outputs": [
    {
     "data": {
      "text/plain": [
       "StructType([StructField('actor_name', StringType(), True), StructField('movie_title', StringType(), True), StructField('produced_year', IntegerType(), True)])"
      ]
     },
     "execution_count": 48,
     "metadata": {},
     "output_type": "execute_result"
    }
   ],
   "source": [
    "movie_schema2"
   ]
  },
  {
   "cell_type": "code",
   "execution_count": 49,
   "id": "e9b28d4e-f0ce-4cf1-91cf-9e6ce6b23d8a",
   "metadata": {},
   "outputs": [],
   "source": [
    "badMovieSchema = StructType([\n",
    "                        StructField(\"actor_name\", BooleanType(), True),\n",
    "                        StructField(\"movie_title\", StringType(), True),\n",
    "                        StructField(\"produced_year\", IntegerType(), True)])"
   ]
  },
  {
   "cell_type": "code",
   "execution_count": 50,
   "id": "f2e671a3-4180-4e0a-8687-cc015dbd77f8",
   "metadata": {},
   "outputs": [
    {
     "data": {
      "text/plain": [
       "StructType([StructField('actor_name', BooleanType(), True), StructField('movie_title', StringType(), True), StructField('produced_year', IntegerType(), True)])"
      ]
     },
     "execution_count": 50,
     "metadata": {},
     "output_type": "execute_result"
    }
   ],
   "source": [
    "badMovieSchema"
   ]
  },
  {
   "cell_type": "code",
   "execution_count": 51,
   "id": "1c241f41-b27b-4066-af5a-1800a89a5fee",
   "metadata": {},
   "outputs": [],
   "source": [
    "movies6 = spark.read.option(\"header\",\"true\").option(\"sep\", \"\\t\").schema(badMovieSchema).json(\"beginning-apache-spark-3-main/beginning-apache-spark-3-main/chapter3/data/movies/movies.json\")"
   ]
  },
  {
   "cell_type": "code",
   "execution_count": 52,
   "id": "df1262ec-8307-4d0e-8ef9-0dd9ddc77924",
   "metadata": {},
   "outputs": [
    {
     "name": "stdout",
     "output_type": "stream",
     "text": [
      "+----------+------------------+-------------+\n",
      "|actor_name|       movie_title|produced_year|\n",
      "+----------+------------------+-------------+\n",
      "|      null|      Coach Carter|         2005|\n",
      "|      null|       Superman II|         1980|\n",
      "|      null|         Apollo 13|         1995|\n",
      "|      null|          Superman|         1978|\n",
      "|      null|Back to the Future|         1985|\n",
      "+----------+------------------+-------------+\n",
      "only showing top 5 rows\n",
      "\n"
     ]
    }
   ],
   "source": [
    "movies6.show(5)"
   ]
  },
  {
   "cell_type": "code",
   "execution_count": 53,
   "id": "ec82f455-3d73-4065-835f-ee23b8714fb2",
   "metadata": {},
   "outputs": [],
   "source": [
    "# movies7 = spark.read.option(\"header\",\"true\").option(\"sep\", \"\\t\").option(\"mode\", \"failFast\").schema(badMovieSchema).json(\"beginning-apache-spark-3-main/beginning-apache-spark-3-main/chapter3/data/movies/movies.json\")\n"
   ]
  },
  {
   "cell_type": "code",
   "execution_count": 54,
   "id": "d9ab5f8b-945e-45be-94a1-1c9b157413a2",
   "metadata": {},
   "outputs": [],
   "source": [
    "movies8 = spark.read.load(\"beginning-apache-spark-3-main/beginning-apache-spark-3-main/chapter3/data/movies/movies.parquet\")"
   ]
  },
  {
   "cell_type": "code",
   "execution_count": 55,
   "id": "13c5b7ee-513c-4383-ad6c-a000e0121bfe",
   "metadata": {},
   "outputs": [
    {
     "name": "stdout",
     "output_type": "stream",
     "text": [
      "+-----------------+------------------+-------------+\n",
      "|       actor_name|       movie_title|produced_year|\n",
      "+-----------------+------------------+-------------+\n",
      "|McClure, Marc (I)|      Coach Carter|         2005|\n",
      "|McClure, Marc (I)|       Superman II|         1980|\n",
      "|McClure, Marc (I)|         Apollo 13|         1995|\n",
      "|McClure, Marc (I)|          Superman|         1978|\n",
      "|McClure, Marc (I)|Back to the Future|         1985|\n",
      "+-----------------+------------------+-------------+\n",
      "only showing top 5 rows\n",
      "\n"
     ]
    }
   ],
   "source": [
    "movies8.show(5)"
   ]
  },
  {
   "cell_type": "code",
   "execution_count": 56,
   "id": "fd9c29c3-7b7d-4ec8-89ad-7bbb11822cd3",
   "metadata": {},
   "outputs": [
    {
     "name": "stdout",
     "output_type": "stream",
     "text": [
      "root\n",
      " |-- actor_name: string (nullable = true)\n",
      " |-- movie_title: string (nullable = true)\n",
      " |-- produced_year: long (nullable = true)\n",
      "\n"
     ]
    }
   ],
   "source": [
    "movies10 = spark.read.parquet(\"beginning-apache-spark-3-main/beginning-apache-spark-3-main/chapter3/data/movies/movies.parquet\")\n",
    "movies10.printSchema()"
   ]
  },
  {
   "cell_type": "code",
   "execution_count": 57,
   "id": "bcd4abc2-e851-4f1a-b3a4-2fbdf8e8be52",
   "metadata": {},
   "outputs": [
    {
     "name": "stdout",
     "output_type": "stream",
     "text": [
      "+-----------------+------------------+-------------+\n",
      "|       actor_name|       movie_title|produced_year|\n",
      "+-----------------+------------------+-------------+\n",
      "|McClure, Marc (I)|      Coach Carter|         2005|\n",
      "|McClure, Marc (I)|       Superman II|         1980|\n",
      "|McClure, Marc (I)|         Apollo 13|         1995|\n",
      "|McClure, Marc (I)|          Superman|         1978|\n",
      "|McClure, Marc (I)|Back to the Future|         1985|\n",
      "+-----------------+------------------+-------------+\n",
      "only showing top 5 rows\n",
      "\n"
     ]
    }
   ],
   "source": [
    "movies10.show(5)"
   ]
  },
  {
   "cell_type": "code",
   "execution_count": 58,
   "id": "0b77b030-aeca-4152-ac32-47146ad3ae6c",
   "metadata": {},
   "outputs": [],
   "source": [
    "spark = SparkSession.builder.config(\"spark.jars\", \"mysql-connector-java-8.0.13.jar\").getOrCreate()"
   ]
  },
  {
   "cell_type": "code",
   "execution_count": 59,
   "id": "c4f7de58-da0a-41a2-ad2c-9cc163bbc712",
   "metadata": {},
   "outputs": [
    {
     "data": {
      "text/html": [
       "\n",
       "            <div>\n",
       "                <p><b>SparkSession - in-memory</b></p>\n",
       "                \n",
       "        <div>\n",
       "            <p><b>SparkContext</b></p>\n",
       "\n",
       "            <p><a href=\"http://DESKTOP-JOOVP4D.mshome.net:4040\">Spark UI</a></p>\n",
       "\n",
       "            <dl>\n",
       "              <dt>Version</dt>\n",
       "                <dd><code>v3.3.1</code></dd>\n",
       "              <dt>Master</dt>\n",
       "                <dd><code>local[*]</code></dd>\n",
       "              <dt>AppName</dt>\n",
       "                <dd><code>pyspark-shell</code></dd>\n",
       "            </dl>\n",
       "        </div>\n",
       "        \n",
       "            </div>\n",
       "        "
      ],
      "text/plain": [
       "<pyspark.sql.session.SparkSession at 0x2cf91839900>"
      ]
     },
     "execution_count": 59,
     "metadata": {},
     "output_type": "execute_result"
    }
   ],
   "source": [
    "spark"
   ]
  },
  {
   "cell_type": "code",
   "execution_count": 60,
   "id": "76adb6ce-b46a-4dcc-84de-e983f22fedc5",
   "metadata": {},
   "outputs": [],
   "source": [
    "from pyspark.sql.functions import *"
   ]
  },
  {
   "cell_type": "code",
   "execution_count": 68,
   "id": "04c123ee-cc79-4e52-a543-27d982659460",
   "metadata": {},
   "outputs": [],
   "source": [
    "my_list = [(1,2),(2,3)]\n",
    "rdd = sc.parallelize(my_list)\n",
    "kvDF = rdd.toDF([\"key\",\"value\"])"
   ]
  },
  {
   "cell_type": "code",
   "execution_count": 73,
   "id": "bc12c892-c970-477b-8fb5-9157796b263a",
   "metadata": {},
   "outputs": [
    {
     "name": "stdout",
     "output_type": "stream",
     "text": [
      "+---+-----+\n",
      "|key|value|\n",
      "+---+-----+\n",
      "|  1|    2|\n",
      "|  2|    3|\n",
      "+---+-----+\n",
      "\n"
     ]
    }
   ],
   "source": [
    "kvDF.show(5)"
   ]
  },
  {
   "cell_type": "code",
   "execution_count": 82,
   "id": "a941aea5-4615-4a52-93ca-d048f47df995",
   "metadata": {},
   "outputs": [
    {
     "name": "stdout",
     "output_type": "stream",
     "text": [
      "+---+---------+\n",
      "|key|(key > 1)|\n",
      "+---+---------+\n",
      "|  1|    false|\n",
      "|  2|     true|\n",
      "+---+---------+\n",
      "\n"
     ]
    }
   ],
   "source": [
    "kvDF.select([column('key'), kvDF.key > 1]).show()"
   ]
  },
  {
   "cell_type": "code",
   "execution_count": 83,
   "id": "237fff87-b34b-42d6-807b-ff896a151d10",
   "metadata": {},
   "outputs": [],
   "source": [
    "movies = spark.read.parquet(\"beginning-apache-spark-3-main/beginning-apache-spark-3-main/chapter3/data/movies/movies.parquet\")"
   ]
  },
  {
   "cell_type": "code",
   "execution_count": 85,
   "id": "c2213985-45d8-48f0-a71e-738f16700802",
   "metadata": {},
   "outputs": [
    {
     "name": "stdout",
     "output_type": "stream",
     "text": [
      "root\n",
      " |-- actor_name: string (nullable = true)\n",
      " |-- movie_title: string (nullable = true)\n",
      " |-- produced_year: long (nullable = true)\n",
      "\n"
     ]
    }
   ],
   "source": [
    "movies.printSchema()"
   ]
  },
  {
   "cell_type": "code",
   "execution_count": 90,
   "id": "17dc502e-482b-4209-80b6-c830033f938c",
   "metadata": {},
   "outputs": [
    {
     "name": "stdout",
     "output_type": "stream",
     "text": [
      "+--------------------+-----------------+\n",
      "|         movie_title|       actor_name|\n",
      "+--------------------+-----------------+\n",
      "|        Coach Carter|McClure, Marc (I)|\n",
      "|         Superman II|McClure, Marc (I)|\n",
      "|           Apollo 13|McClure, Marc (I)|\n",
      "|            Superman|McClure, Marc (I)|\n",
      "|  Back to the Future|McClure, Marc (I)|\n",
      "|Back to the Futur...|McClure, Marc (I)|\n",
      "|  Me, Myself & Irene|Cooper, Chris (I)|\n",
      "|         October Sky|Cooper, Chris (I)|\n",
      "|              Capote|Cooper, Chris (I)|\n",
      "|The Bourne Supremacy|Cooper, Chris (I)|\n",
      "|         The Patriot|Cooper, Chris (I)|\n",
      "|            The Town|Cooper, Chris (I)|\n",
      "|          Seabiscuit|Cooper, Chris (I)|\n",
      "|      A Time to Kill|Cooper, Chris (I)|\n",
      "|Where the Wild Th...|Cooper, Chris (I)|\n",
      "|         The Muppets|Cooper, Chris (I)|\n",
      "|     American Beauty|Cooper, Chris (I)|\n",
      "|             Syriana|Cooper, Chris (I)|\n",
      "| The Horse Whisperer|Cooper, Chris (I)|\n",
      "|             Jarhead|Cooper, Chris (I)|\n",
      "+--------------------+-----------------+\n",
      "only showing top 20 rows\n",
      "\n"
     ]
    }
   ],
   "source": [
    "movies.select([\"movie_title\", \"actor_name\"]).show()"
   ]
  },
  {
   "cell_type": "code",
   "execution_count": 108,
   "id": "1bc76018-e302-4b6b-8cd2-4c15f4677490",
   "metadata": {},
   "outputs": [
    {
     "name": "stdout",
     "output_type": "stream",
     "text": [
      "+--------------------+-----------------+-------------+------+\n",
      "|         movie_title|       actor_name|produced_year|Decade|\n",
      "+--------------------+-----------------+-------------+------+\n",
      "|        Coach Carter|McClure, Marc (I)|         2005|  2000|\n",
      "|         Superman II|McClure, Marc (I)|         1980|  1980|\n",
      "|           Apollo 13|McClure, Marc (I)|         1995|  1990|\n",
      "|            Superman|McClure, Marc (I)|         1978|  1970|\n",
      "|  Back to the Future|McClure, Marc (I)|         1985|  1980|\n",
      "|Back to the Futur...|McClure, Marc (I)|         1990|  1990|\n",
      "|  Me, Myself & Irene|Cooper, Chris (I)|         2000|  2000|\n",
      "|         October Sky|Cooper, Chris (I)|         1999|  1990|\n",
      "|              Capote|Cooper, Chris (I)|         2005|  2000|\n",
      "|The Bourne Supremacy|Cooper, Chris (I)|         2004|  2000|\n",
      "|         The Patriot|Cooper, Chris (I)|         2000|  2000|\n",
      "|            The Town|Cooper, Chris (I)|         2010|  2010|\n",
      "|          Seabiscuit|Cooper, Chris (I)|         2003|  2000|\n",
      "|      A Time to Kill|Cooper, Chris (I)|         1996|  1990|\n",
      "|Where the Wild Th...|Cooper, Chris (I)|         2009|  2000|\n",
      "|         The Muppets|Cooper, Chris (I)|         2011|  2010|\n",
      "|     American Beauty|Cooper, Chris (I)|         1999|  1990|\n",
      "|             Syriana|Cooper, Chris (I)|         2005|  2000|\n",
      "| The Horse Whisperer|Cooper, Chris (I)|         1998|  1990|\n",
      "|             Jarhead|Cooper, Chris (I)|         2005|  2000|\n",
      "+--------------------+-----------------+-------------+------+\n",
      "only showing top 20 rows\n",
      "\n"
     ]
    }
   ],
   "source": [
    "movies.select([\"movie_title\", \"actor_name\", column('produced_year'), (column('produced_year') - (column('produced_year') % 10)).alias('Decade')]).show()"
   ]
  },
  {
   "cell_type": "code",
   "execution_count": 117,
   "id": "4f492b51-44c3-4ba6-ae43-88086ad9558e",
   "metadata": {},
   "outputs": [
    {
     "name": "stdout",
     "output_type": "stream",
     "text": [
      "+------+------+\n",
      "|movies|actors|\n",
      "+------+------+\n",
      "|  1409|  6527|\n",
      "+------+------+\n",
      "\n"
     ]
    }
   ],
   "source": [
    "movies.selectExpr(\"count(distinct(movie_title)) as movies\",\"count(distinct(actor_name)) as actors\").show()"
   ]
  },
  {
   "cell_type": "code",
   "execution_count": 120,
   "id": "dc2a93b5-1e51-406d-a110-0a805641e5e1",
   "metadata": {},
   "outputs": [
    {
     "name": "stdout",
     "output_type": "stream",
     "text": [
      "+-------------------+--------------------+-------------+\n",
      "|         actor_name|         movie_title|produced_year|\n",
      "+-------------------+--------------------+-------------+\n",
      "|  McClure, Marc (I)|        Coach Carter|         2005|\n",
      "|  Cooper, Chris (I)|              Capote|         2005|\n",
      "|  Cooper, Chris (I)|The Bourne Supremacy|         2004|\n",
      "|  Cooper, Chris (I)|            The Town|         2010|\n",
      "|  Cooper, Chris (I)|          Seabiscuit|         2003|\n",
      "|  Cooper, Chris (I)|Where the Wild Th...|         2009|\n",
      "|  Cooper, Chris (I)|         The Muppets|         2011|\n",
      "|  Cooper, Chris (I)|             Syriana|         2005|\n",
      "|  Cooper, Chris (I)|             Jarhead|         2005|\n",
      "|  Cooper, Chris (I)| The Bourne Identity|         2002|\n",
      "|  Cassavetes, Frank|          Battleship|         2012|\n",
      "|  Cassavetes, Frank|              John Q|         2002|\n",
      "|  Cassavetes, Frank|  My Sister's Keeper|         2009|\n",
      "|  Cassavetes, Frank| Kicking & Screaming|         2005|\n",
      "|Knight, Shirley (I)|Divine Secrets of...|         2002|\n",
      "|Knight, Shirley (I)|Paul Blart: Mall Cop|         2009|\n",
      "|    Jolie, Angelina|Lara Croft: Tomb ...|         2001|\n",
      "|    Jolie, Angelina|                Salt|         2010|\n",
      "|    Jolie, Angelina|   The Good Shepherd|         2006|\n",
      "|    Jolie, Angelina|           Alexander|         2004|\n",
      "+-------------------+--------------------+-------------+\n",
      "only showing top 20 rows\n",
      "\n"
     ]
    }
   ],
   "source": [
    "movies.where('produced_year > 2000').show()"
   ]
  },
  {
   "cell_type": "code",
   "execution_count": null,
   "id": "e9a3e114-32a8-4b1d-a06f-adac76a39848",
   "metadata": {},
   "outputs": [],
   "source": []
  }
 ],
 "metadata": {
  "kernelspec": {
   "display_name": "Python 3 (ipykernel)",
   "language": "python",
   "name": "python3"
  },
  "language_info": {
   "codemirror_mode": {
    "name": "ipython",
    "version": 3
   },
   "file_extension": ".py",
   "mimetype": "text/x-python",
   "name": "python",
   "nbconvert_exporter": "python",
   "pygments_lexer": "ipython3",
   "version": "3.10.7"
  }
 },
 "nbformat": 4,
 "nbformat_minor": 5
}
