{
 "cells": [
  {
   "cell_type": "code",
   "execution_count": 11,
   "id": "c3f20fbc",
   "metadata": {},
   "outputs": [],
   "source": [
    "from re import match, search, findall"
   ]
  },
  {
   "cell_type": "code",
   "execution_count": 5,
   "id": "2eabe35f",
   "metadata": {},
   "outputs": [
    {
     "data": {
      "text/plain": [
       "<re.Match object; span=(0, 3), match='abc'>"
      ]
     },
     "execution_count": 5,
     "metadata": {},
     "output_type": "execute_result"
    }
   ],
   "source": [
    "#match procura a ocorrência da expressão passada como primeiro parâmetro no inicio da string \n",
    "match('abc', 'abc')"
   ]
  },
  {
   "cell_type": "code",
   "execution_count": 8,
   "id": "75a16d62",
   "metadata": {},
   "outputs": [
    {
     "data": {
      "text/plain": [
       "<re.Match object; span=(3, 6), match='abc'>"
      ]
     },
     "execution_count": 8,
     "metadata": {},
     "output_type": "execute_result"
    }
   ],
   "source": [
    "#search procura a ocorrência da expressão em toda a string\n",
    "search('abc', 'efgabc')"
   ]
  },
  {
   "cell_type": "code",
   "execution_count": 7,
   "id": "9da969b3",
   "metadata": {},
   "outputs": [
    {
     "data": {
      "text/plain": [
       "['abc', 'abc']"
      ]
     },
     "execution_count": 7,
     "metadata": {},
     "output_type": "execute_result"
    }
   ],
   "source": [
    "#findall retorna todas as ocorências do padrão especfícado em forma de string\n",
    "findall('abc', '123abc456abc')"
   ]
  },
  {
   "cell_type": "code",
   "execution_count": 12,
   "id": "cbddd73f",
   "metadata": {},
   "outputs": [
    {
     "data": {
      "text/plain": [
       "<re.Match object; span=(0, 1), match=' '>"
      ]
     },
     "execution_count": 12,
     "metadata": {},
     "output_type": "execute_result"
    }
   ],
   "source": [
    "#As funções retornam um objeto dizendo que encontrou o pdrão pois o ponto representa qualquer caractere(exceto o de quebra de linha)\n",
    "match('.', 'abc')\n",
    "match('.', '012')\n",
    "match('.', '    ')"
   ]
  },
  {
   "cell_type": "code",
   "execution_count": 25,
   "id": "ea5545a5",
   "metadata": {},
   "outputs": [
    {
     "name": "stdout",
     "output_type": "stream",
     "text": [
      "['a']\n",
      "['a', 'd', 'g']\n",
      "['i']\n",
      "['f', 'i']\n"
     ]
    }
   ],
   "source": [
    "#Âncoras\n",
    "print(findall('^.', 'abc\\ndef\\nghi'))\n",
    "print(findall('^.', 'abc\\ndef\\nghi', re.MULTILINE))\n",
    "print(findall('.$', 'abc\\mdef\\nghi'))\n",
    "print(findall('.$', 'abc\\mdef\\nghi', re.MULTILINE))"
   ]
  },
  {
   "cell_type": "code",
   "execution_count": 28,
   "id": "3d81e4d2",
   "metadata": {},
   "outputs": [
    {
     "data": {
      "text/plain": [
       "<re.Match object; span=(0, 2), match='12'>"
      ]
     },
     "execution_count": 28,
     "metadata": {},
     "output_type": "execute_result"
    }
   ],
   "source": [
    "match(r'\\d{4}', '1234')\n",
    "match(r'\\d{2,}?', '1234')"
   ]
  },
  {
   "cell_type": "code",
   "execution_count": null,
   "id": "fa337923",
   "metadata": {},
   "outputs": [],
   "source": []
  }
 ],
 "metadata": {
  "kernelspec": {
   "display_name": "Python 3 (ipykernel)",
   "language": "python",
   "name": "python3"
  },
  "language_info": {
   "codemirror_mode": {
    "name": "ipython",
    "version": 3
   },
   "file_extension": ".py",
   "mimetype": "text/x-python",
   "name": "python",
   "nbconvert_exporter": "python",
   "pygments_lexer": "ipython3",
   "version": "3.10.7"
  }
 },
 "nbformat": 4,
 "nbformat_minor": 5
}
