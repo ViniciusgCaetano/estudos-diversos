{
 "cells": [
  {
   "cell_type": "markdown",
   "id": "3ebdf0f4-a674-4be6-8c71-9a3b31482d68",
   "metadata": {},
   "source": [
    "# 1. Expressões Regulares"
   ]
  },
  {
   "cell_type": "markdown",
   "id": "1ca656b6-c8b1-4498-a808-a06ae1460dfa",
   "metadata": {},
   "source": [
    "> Esse notebook busca prover uma arbodagem completa do uso das expressões regulares e de como se dá o seu uso e alguns exemplos e casos de uso das Expressões Regulares em casos do cotidiano"
   ]
  },
  {
   "cell_type": "code",
   "execution_count": null,
   "id": "d52252f0-4992-4781-800e-94c1be56a228",
   "metadata": {},
   "outputs": [],
   "source": []
  }
 ],
 "metadata": {
  "kernelspec": {
   "display_name": "Python 3 (ipykernel)",
   "language": "python",
   "name": "python3"
  },
  "language_info": {
   "codemirror_mode": {
    "name": "ipython",
    "version": 3
   },
   "file_extension": ".py",
   "mimetype": "text/x-python",
   "name": "python",
   "nbconvert_exporter": "python",
   "pygments_lexer": "ipython3",
   "version": "3.10.7"
  }
 },
 "nbformat": 4,
 "nbformat_minor": 5
}
