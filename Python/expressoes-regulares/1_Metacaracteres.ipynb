{
 "cells": [
  {
   "cell_type": "markdown",
   "id": "3ebdf0f4-a674-4be6-8c71-9a3b31482d68",
   "metadata": {},
   "source": [
    "# 1. Metacaracteres"
   ]
  },
  {
   "cell_type": "markdown",
   "id": "1ca656b6-c8b1-4498-a808-a06ae1460dfa",
   "metadata": {},
   "source": [
    "> Metacaracteres são a forma pela quais nós conseguimos transcrever padrões em textos de forma específica.\n",
    "\n",
    "```\n",
    "\n",
    "Por exemplo, \"[rgp]ato\" pode significar \"gato\", \"rato\" e \"pato\"\n",
    "```\n"
   ]
  },
  {
   "cell_type": "markdown",
   "id": "5d8a0dfe-bcec-4e7e-a09a-03996b8d0e8f",
   "metadata": {
    "tags": []
   },
   "source": [
    "### Os metacaracteres são divididos em 4 grupos, e são eles:\n",
    "\n",
    "\n",
    "#### Representantes\n",
    "\n",
    "| Metacaractere |     Nome     |              Função             |\n",
    "|:-------------:|:------------:|:-------------------------------:|\n",
    "|       .       |     Ponto    |      Um caractere qualquer      |\n",
    "|       []      |     Lista    |  Lista de caracteres permitidos |\n",
    "|      [^]      | Lista Negada |  Lista de caracteres proibidos  |\n",
    "\n",
    "\n",
    "#### Quantificadores\n",
    "\n",
    "| Metacaractere |     Nome     |              Função             |\n",
    "|:-------------:|:------------:|:-------------------------------:|\n",
    "|       ?       |   Opcional   |            Zero ou um           |\n",
    "|       *       |   Asterisco  |         Zero, um ou mais        |\n",
    "|       +       |     Mais     |            Um ou mais           |\n",
    "|    {n...m}    |    Chaves    |            De n até m           |\n",
    "\n",
    "\n",
    "#### Âncoras\n",
    "\n",
    "| Metacaractere |     Nome     |              Função             |\n",
    "|:-------------:|:------------:|:-------------------------------:|\n",
    "|       \\b      |     Borda    |     Início ou fim de palavra    |\n",
    "|       ^       |  Circunflexo |         Início da linha         |\n",
    "|       $       |    Cifrão    |           Fim da linha          |\n",
    "\n",
    "#### Outros\n",
    "\n",
    "| Metacaractere |     Nome     |              Função             |\n",
    "|:-------------:|:------------:|:-------------------------------:|\n",
    "|       \\       |    Escape    |   Torna literal o caractere c   |\n",
    "|        \\|      |      Ou      |          Ou um ou outro         |\n",
    "|       ()      |     Grupo    |        Delimita um grupo        |\n",
    "|       \\1      |  Retrovisor  |     Texto casado nos grupos     |"
   ]
  },
  {
   "cell_type": "markdown",
   "id": "7b4c3805-3adf-4523-8fd0-227eb3ede5a7",
   "metadata": {
    "jp-MarkdownHeadingCollapsed": true,
    "tags": []
   },
   "source": [
    "## Ponto: .\n",
    "\n",
    "O ponto casa com qualquer caractere.\n",
    "\n",
    "\".ato\", pode ser rato, gato, mato, pato ou qualquer outro caractere.\n",
    "\n",
    "O ponto pode casar até mesmo com o próprio ponto.\n",
    "\n",
    "Além disso, também aceita caracteres especiais como @, #, $ ou 4, e aceita tanto caracteres maiúsculos como minúsculos.\n",
    "<br> \n",
    "<br> \n",
    "---\n",
    "\n"
   ]
  },
  {
   "cell_type": "markdown",
   "id": "de8c23ee-fde6-495b-b21e-d5bab2e67661",
   "metadata": {},
   "source": [
    "## Lista: [...]\n",
    "\n",
    "A lista só casa com os caracteres que estão dentro dela.\n",
    "\n",
    "\"[rgp]ato\" casa apenas com \"rato\", \"pato\" e \"gato\", caso queiramos que case com letras maiúsculas, deveremos escrever \"[rgpRGP]ato\".\n",
    "\n",
    "Caso queiramos referenciar os próprios colchetes dentro da lista, deveremos escrever [][], assim nossa lista casará com um colchete de abertura ou fechamento.\n",
    "\n",
    "\n",
    "### Intervalos\n",
    "Para facilitar a escrita das regex, existem os intervalos, que nos auxiliam a não ter que escrever literalmente todos os caracteres que queremos casar.\n",
    "Por exemplo, se quisessemos criar uma regex para casar com horas no formato HH:MM, poderiamos escrever \"[012][01234567890]:[012345][0123456789]\".\n",
    "Com intervalos, podemos reescrever a nossa regex como \"[0-2][0-9]:[0-6][0-9]\"\n",
    "<br> \n",
    "<br> \n",
    "---"
   ]
  },
  {
   "cell_type": "markdown",
   "id": "ac049ab8-aafb-4acb-ac53-b21e133419ce",
   "metadata": {},
   "source": []
  },
  {
   "cell_type": "code",
   "execution_count": null,
   "id": "9b06e05e-0626-4746-a5c3-a3e47375c839",
   "metadata": {},
   "outputs": [],
   "source": []
  }
 ],
 "metadata": {
  "kernelspec": {
   "display_name": "Python 3 (ipykernel)",
   "language": "python",
   "name": "python3"
  },
  "language_info": {
   "codemirror_mode": {
    "name": "ipython",
    "version": 3
   },
   "file_extension": ".py",
   "mimetype": "text/x-python",
   "name": "python",
   "nbconvert_exporter": "python",
   "pygments_lexer": "ipython3",
   "version": "3.10.7"
  }
 },
 "nbformat": 4,
 "nbformat_minor": 5
}
