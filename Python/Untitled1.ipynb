{
 "cells": [
  {
   "cell_type": "code",
   "execution_count": 2,
   "id": "806e210b",
   "metadata": {},
   "outputs": [],
   "source": [
    "import random\n",
    "from numpy import *\n",
    "from pandas import *"
   ]
  },
  {
   "cell_type": "code",
   "execution_count": null,
   "id": "e6a4d35c",
   "metadata": {},
   "outputs": [],
   "source": []
  },
  {
   "cell_type": "code",
   "execution_count": 5,
   "id": "88a9ec9d",
   "metadata": {},
   "outputs": [
    {
     "name": "stdout",
     "output_type": "stream",
     "text": [
      "[['Co', 'Co', 'Co', 'Co', 'Co', 'Co', 'Co', 'Co', 'Co', 'Co'], ['Ca', 'Ca', 'Ca', 'Ca', 'Ca', 'Ca', 'Ca', 'Ca', 'Ca', 'Ca'], ['Co', 'Co', 'Co', 'Co', 'Co', 'Co', 'Co', 'Co', 'Co', 'Co'], ['Co', 'Co', 'Co', 'Co', 'Co', 'Co', 'Co', 'Co', 'Co', 'Co'], ['Ca', 'Ca', 'Ca', 'Ca', 'Ca', 'Ca', 'Ca', 'Ca', 'Ca', 'Ca'], ['Co', 'Co', 'Co', 'Co', 'Co', 'Co', 'Co', 'Co', 'Co', 'Co'], ['Co', 'Co', 'Co', 'Co', 'Co', 'Co', 'Co', 'Co', 'Co', 'Co'], ['Ca', 'Ca', 'Ca', 'Ca', 'Ca', 'Ca', 'Ca', 'Ca', 'Ca', 'Ca'], ['Ca', 'Ca', 'Ca', 'Ca', 'Ca', 'Ca', 'Ca', 'Ca', 'Ca', 'Ca'], ['Ca', 'Ca', 'Ca', 'Ca', 'Ca', 'Ca', 'Ca', 'Ca', 'Ca', 'Ca'], ['Co', 'Co', 'Co', 'Co', 'Co', 'Co', 'Co', 'Co', 'Co', 'Co'], ['Ca', 'Ca', 'Ca', 'Ca', 'Ca', 'Ca', 'Ca', 'Ca', 'Ca', 'Ca'], ['Co', 'Co', 'Co', 'Co', 'Co', 'Co', 'Co', 'Co', 'Co', 'Co'], ['Ca', 'Ca', 'Ca', 'Ca', 'Ca', 'Ca', 'Ca', 'Ca', 'Ca', 'Ca'], ['Co', 'Co', 'Co', 'Co', 'Co', 'Co', 'Co', 'Co', 'Co', 'Co'], ['Co', 'Co', 'Co', 'Co', 'Co', 'Co', 'Co', 'Co', 'Co', 'Co'], ['Ca', 'Ca', 'Ca', 'Ca', 'Ca', 'Ca', 'Ca', 'Ca', 'Ca', 'Ca'], ['Co', 'Co', 'Co', 'Co', 'Co', 'Co', 'Co', 'Co', 'Co', 'Co'], ['Co', 'Co', 'Co', 'Co', 'Co', 'Co', 'Co', 'Co', 'Co', 'Co']]\n",
      "Wall time: 2.71 s\n"
     ]
    },
    {
     "data": {
      "text/plain": [
       "19"
      ]
     },
     "execution_count": 5,
     "metadata": {},
     "output_type": "execute_result"
    }
   ],
   "source": [
    "%%time\n",
    "pessoas = []\n",
    "for pessoa in range(0, 10000):\n",
    "    pessoas.append([])\n",
    "    for jogada in range(0, 10):\n",
    "        resultado = random.choice(('Ca', 'Co'))\n",
    "        pessoas[pessoa].append(resultado)\n",
    "        \n",
    "iguais = [teste for teste in pessoas if len(set(teste)) == 1]\n",
    "print(iguais)\n",
    "len(iguais)"
   ]
  },
  {
   "cell_type": "code",
   "execution_count": 61,
   "id": "cba3d03e",
   "metadata": {},
   "outputs": [
    {
     "data": {
      "text/plain": [
       "'Ca'"
      ]
     },
     "execution_count": 61,
     "metadata": {},
     "output_type": "execute_result"
    }
   ],
   "source": [
    "random.choice(('Ca', 'Co'))"
   ]
  },
  {
   "cell_type": "code",
   "execution_count": null,
   "id": "0bb96474",
   "metadata": {},
   "outputs": [],
   "source": []
  }
 ],
 "metadata": {
  "kernelspec": {
   "display_name": "Python 3",
   "language": "python",
   "name": "python3"
  },
  "language_info": {
   "codemirror_mode": {
    "name": "ipython",
    "version": 3
   },
   "file_extension": ".py",
   "mimetype": "text/x-python",
   "name": "python",
   "nbconvert_exporter": "python",
   "pygments_lexer": "ipython3",
   "version": "3.8.8"
  }
 },
 "nbformat": 4,
 "nbformat_minor": 5
}
