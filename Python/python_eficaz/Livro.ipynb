{
 "cells": [
  {
   "cell_type": "markdown",
   "id": "4f175ad0",
   "metadata": {},
   "source": [
    "# Notebook para testar e executar os ensinamentos do livro Python Eficaz"
   ]
  },
  {
   "cell_type": "markdown",
   "id": "81a72441",
   "metadata": {},
   "source": [
    "### Item 1: Saiba qual versão do Python está usando"
   ]
  },
  {
   "cell_type": "code",
   "execution_count": null,
   "id": "ced9cec0",
   "metadata": {},
   "outputs": [
    {
     "ename": "",
     "evalue": "",
     "output_type": "error",
     "traceback": [
      "\u001b[1;31mRunning cells with 'Python 3.9.9 64-bit (windows store)' requires ipykernel package.\n",
      "Run the following command to install 'ipykernel' into the Python environment. \n",
      "Command: 'C:/Users/Vinicius12011807/AppData/Local/Microsoft/WindowsApps/python3.9.exe -m pip install ipykernel -U --user --force-reinstall'"
     ]
    }
   ],
   "source": [
    "import sys\n",
    "print(sys.version_info)\n",
    "print(sys.version)"
   ]
  },
  {
   "cell_type": "markdown",
   "id": "b5797390",
   "metadata": {},
   "source": [
    "\n",
    "\n",
    "### Item 2: Siga o guia de estilo PEP8"
   ]
  },
  {
   "cell_type": "code",
   "execution_count": 23,
   "id": "d175ab28",
   "metadata": {},
   "outputs": [],
   "source": [
    "##Funções e classes devem ser separadas por duas linhas em branco\n",
    "\n",
    "class ClasseEmCamelCase:\n",
    "\n",
    "    '''Métodos de instância em classes devem usar self como o nome do primeiro \n",
    "    parâmetro (referindo-se ao objeto)'''\n",
    "    def __init__(self):\n",
    "        pass\n",
    "\n",
    "def funcao_em_caixa_baixa():\n",
    "     pass   "
   ]
  },
  {
   "cell_type": "code",
   "execution_count": 25,
   "id": "3ccc46f1",
   "metadata": {},
   "outputs": [],
   "source": [
    "##Checando se uma lista está vazia\n",
    "\n",
    "lista = []\n",
    "\n",
    "#Errado:\n",
    "if len(lista) == 0:\n",
    "    pass\n",
    "\n",
    "#Certo\n",
    "if not lista:\n",
    "    pass"
   ]
  },
  {
   "cell_type": "markdown",
   "id": "f965dc38",
   "metadata": {},
   "source": [
    "\n",
    "### Item 3: Saiba as diferenças ente bytes e str"
   ]
  },
  {
   "cell_type": "code",
   "execution_count": 35,
   "id": "906b1949",
   "metadata": {},
   "outputs": [
    {
     "data": {
      "text/plain": [
       "b'Python'"
      ]
     },
     "execution_count": 35,
     "metadata": {},
     "output_type": "execute_result"
    }
   ],
   "source": [
    "#Enquanto bytes armazena valores primarios de 8 bits, str armazena caracteres em formato unicode\n",
    "\n",
    "#Função para transformar um dado do tipo bytes em str\n",
    "\n",
    "dado = bytes('Python', 'utf8')\n",
    "\n",
    "def para_str(dado_em_bytes):\n",
    "    valor = dado_em_bytes.decode('utf-8')\n",
    "    return valor\n",
    "\n",
    "para_str(dado)\n",
    "\n",
    "#Função para transformar um dado tipo str em um do tipo bytes\n",
    "\n",
    "dado = str('Python')\n",
    "\n",
    "def para_bytes(dado_em_str):\n",
    "    valor = dado_em_str.encode('utf-8')\n",
    "    return valor\n",
    "        \n",
    "para_bytes(dado)\n",
    "\n"
   ]
  },
  {
   "cell_type": "markdown",
   "id": "d9240be3",
   "metadata": {},
   "source": [
    "### Item 4: Escreva funções auxiliares em vez de expressões complexas"
   ]
  },
  {
   "cell_type": "code",
   "execution_count": 40,
   "id": "f896197c",
   "metadata": {},
   "outputs": [
    {
     "name": "stdout",
     "output_type": "stream",
     "text": [
      "{'red': ['5'], 'blue': ['0'], 'green': ['']}\n"
     ]
    }
   ],
   "source": [
    "from urllib.parse import parse_qs\n",
    "\n",
    "#Trecho de código que decodifica a query string de um url\n",
    "\n",
    "my_values = parse_qs('red=5&blue=0&green=',\n",
    "            keep_blank_values=True)\n",
    "print(repr(my_values))"
   ]
  },
  {
   "cell_type": "code",
   "execution_count": 42,
   "id": "8dbd6fbc",
   "metadata": {},
   "outputs": [
    {
     "name": "stdout",
     "output_type": "stream",
     "text": [
      "Red: 5\n",
      "Green: 0\n",
      "Opacity: 0\n"
     ]
    }
   ],
   "source": [
    "'''Trecho com função de atribuir 0 como valor caso um atributo não tenha um \n",
    "inteiro já atribuido a ele'''\n",
    "\n",
    "\n",
    "red = int(my_values.get('red', [''])[0] or 0)\n",
    "green = int(my_values.get('green', [''])[0] or 0)\n",
    "opacity = int(my_values.get('opacity', [''])[0] or 0)\n",
    "print('Red: %r' % red)\n",
    "print('Green: %r' % green)\n",
    "print('Opacity: %r' % opacity)"
   ]
  },
  {
   "cell_type": "code",
   "execution_count": null,
   "id": "684de42c",
   "metadata": {},
   "outputs": [
    {
     "ename": "",
     "evalue": "",
     "output_type": "error",
     "traceback": [
      "\u001b[1;31mRunning cells with 'Python 3.9.9 64-bit (windows store)' requires ipykernel package.\n",
      "Run the following command to install 'ipykernel' into the Python environment. \n",
      "Command: 'C:/Users/Vinicius12011807/AppData/Local/Microsoft/WindowsApps/python3.9.exe -m pip install ipykernel -U --user --force-reinstall'"
     ]
    }
   ],
   "source": [
    "#Função auxiliar para simplificar o trecho de código anterior\n",
    "def get_first_int(values, key, default=0):\n",
    "    found = values.get(key, [''])\n",
    "    if found[0]:\n",
    "        found = int(found[0])\n",
    "    else:\n",
    "        found = default\n",
    "    return found\n"
   ]
  },
  {
   "cell_type": "code",
   "execution_count": null,
   "id": "fa59eb70",
   "metadata": {},
   "outputs": [],
   "source": []
  }
 ],
 "metadata": {
  "kernelspec": {
   "display_name": "Python 3",
   "language": "python",
   "name": "python3"
  },
  "language_info": {
   "codemirror_mode": {
    "name": "ipython",
    "version": 3
   },
   "file_extension": ".py",
   "mimetype": "text/x-python",
   "name": "python",
   "nbconvert_exporter": "python",
   "pygments_lexer": "ipython3",
   "version": "3.9.9"
  }
 },
 "nbformat": 4,
 "nbformat_minor": 5
}
