{
 "cells": [
  {
   "cell_type": "code",
   "execution_count": null,
   "id": "d768b641",
   "metadata": {},
   "outputs": [],
   "source": [
    "from random import *"
   ]
  },
  {
   "cell_type": "code",
   "execution_count": null,
   "metadata": {},
   "outputs": [],
   "source": []
  },
  {
   "cell_type": "code",
   "execution_count": null,
   "id": "8acf63ae",
   "metadata": {},
   "outputs": [],
   "source": [
    "mancity = {'Nome': 'Manchester City',\n",
    "        'País': 'ING',\n",
    "        'Grupo': 'A',\n",
    "        'Posição': 1}\n",
    "\n",
    "psg = {'Nome': 'PSG',\n",
    "        'País': 'FRA',\n",
    "        'Grupo': 'A',\n",
    "        'Posição': 2}\n",
    "\n",
    "liverpool = {'Nome': 'Liverpool',\n",
    "        'País': 'ING',\n",
    "        'Grupo': 'B',\n",
    "        'Posição': 1}\n",
    "\n",
    "atlmadrid = {'Nome': 'Atlético Madrid',\n",
    "        'País': 'ESP',\n",
    "        'Grupo': 'B',\n",
    "        'Posição': 2}\n",
    "\n",
    "ajax = {'Nome': 'Ajax',\n",
    "        'País': 'HOL',\n",
    "        'Grupo': 'C',\n",
    "        'Posição': 1}\n",
    "\n",
    "sporting = {'Nome': 'Sporting',\n",
    "        'País': 'POR',\n",
    "        'Grupo': 'C',\n",
    "        'Posição': 2}\n",
    "\n",
    "realmadrid = {'Nome': 'Real Madrid',\n",
    "        'País': 'ESP',\n",
    "        'Grupo': 'D',\n",
    "        'Posição': 1}\n",
    "\n",
    "inter = {'Nome': 'Inter',\n",
    "        'País': 'ITA',\n",
    "        'Grupo': 'D',\n",
    "        'Posição': 2}\n",
    "\n",
    "bayern = {'Nome': 'Bayern',\n",
    "        'País': 'ALE',\n",
    "        'Grupo': 'E',\n",
    "        'Posição': 1}\n",
    "\n",
    "benfica = {'Nome': 'Benfica',\n",
    "        'País': 'POR',\n",
    "        'Grupo': 'E',\n",
    "        'Posição': 2}\n",
    "\n",
    "mcunited = {'Nome': 'Manchester United',\n",
    "        'País': 'ING',\n",
    "        'Grupo': 'F',\n",
    "        'Posição': 1}\n",
    "\n",
    "villareal = {'Nome': 'Villareal',\n",
    "        'País': 'ESP',\n",
    "        'Grupo': 'F',\n",
    "        'Posição': 2}\n",
    "\n",
    "lille = {'Nome': 'Lille',\n",
    "        'País': 'FRA',\n",
    "        'Grupo': 'G',\n",
    "        'Posição': 1}\n",
    "\n",
    "rbsalzburg = {'Nome': 'RB Salzburg',\n",
    "        'País': 'AUS',\n",
    "        'Grupo': 'G',\n",
    "        'Posição': 2}\n",
    "\n",
    "juventus = {'Nome': 'Juventus',\n",
    "        'País': 'ITA',\n",
    "        'Grupo': 'H',\n",
    "        'Posição': 1}\n",
    "\n",
    "chelsea = {'Nome': 'Chelsea',\n",
    "        'País': 'ING',\n",
    "        'Grupo': 'H',\n",
    "        'Posição': 2}"
   ]
  },
  {
   "cell_type": "code",
   "execution_count": null,
   "id": "8f562e25",
   "metadata": {},
   "outputs": [],
   "source": [
    "times = [mancity, psg, liverpool, atlmadrid, ajax, sporting, realmadrid,\n",
    "         inter, bayern, benfica, mcunited, villareal, lille, rbsalzburg,\n",
    "         juventus, chelsea]\n",
    "\n",
    "times_pote1 = [ time for time in times if time['Posição'] == 1]\n",
    "times_pote2 = [ time for time in times if time['Posição'] == 2]"
   ]
  },
  {
   "cell_type": "code",
   "execution_count": null,
   "id": "961e7eef",
   "metadata": {},
   "outputs": [
    {
     "name": "stdout",
     "output_type": "stream",
     "text": [
      "Bayern (ALE) X RB Salzburg (AUS)\n",
      "Ajax (HOL) X Atlético Madrid (ESP)\n",
      "Manchester City (ING) X Sporting (POR)\n",
      "Real Madrid (ESP) X Benfica (POR)\n",
      "Juventus (ITA) X Villareal (ESP)\n",
      "Manchester United (ING) X Inter (ITA)\n",
      "Lille (FRA) X Chelsea (ING)\n",
      "Liverpool (ING) X PSG (FRA)\n"
     ]
    }
   ],
   "source": [
    "for i in range(0, 8):\n",
    "    equipe1 = choice(times_pote1)\n",
    "    \n",
    "    times_disponiveis = [time for time in times_pote2 if \n",
    "                    time['Grupo'] != equipe1['Grupo'] and\n",
    "                    time['País'] != equipe1['País']]\n",
    "    \n",
    "    equipe2 = choice(times_disponiveis)\n",
    "    \n",
    "    print(f'{equipe1[\"Nome\"]} ({equipe1[\"País\"]}) X {equipe2[\"Nome\"]} ({equipe2[\"País\"]})')\n",
    "    times_pote1.remove(equipe1)\n",
    "    times_pote2.remove(equipe2)\n",
    "\n",
    "    "
   ]
  },
  {
   "cell_type": "code",
   "execution_count": null,
   "id": "618f17b9",
   "metadata": {},
   "outputs": [],
   "source": []
  }
 ],
 "metadata": {
  "interpreter": {
   "hash": "37f722cbf70c02c60eb399250a28f61dd845f16fc68fa06b9f8dec3b83c30134"
  },
  "kernelspec": {
   "display_name": "Python 3.9.9 64-bit (windows store)",
   "name": "python3"
  },
  "language_info": {
   "codemirror_mode": {
    "name": "ipython",
    "version": 3
   },
   "file_extension": ".py",
   "mimetype": "text/x-python",
   "name": "python",
   "nbconvert_exporter": "python",
   "pygments_lexer": "ipython3",
   "version": "3.9.9"
  }
 },
 "nbformat": 4,
 "nbformat_minor": 5
}
