{
 "cells": [
  {
   "cell_type": "code",
   "execution_count": 1,
   "id": "3efb2b73",
   "metadata": {},
   "outputs": [
    {
     "name": "stdout",
     "output_type": "stream",
     "text": [
      "Collecting pyautoguiNote: you may need to restart the kernel to use updated packages.\n",
      "  Downloading PyAutoGUI-0.9.53.tar.gz (59 kB)\n",
      "Collecting pymsgbox\n",
      "  Downloading PyMsgBox-1.0.9.tar.gz (18 kB)\n",
      "  Installing build dependencies: started\n",
      "  Installing build dependencies: finished with status 'done'\n",
      "  Getting requirements to build wheel: started\n",
      "  Getting requirements to build wheel: finished with status 'done'\n",
      "\n",
      "    Preparing wheel metadata: started\n",
      "    Preparing wheel metadata: finished with status 'done'\n",
      "Collecting PyTweening>=1.0.1\n",
      "  Downloading pytweening-1.0.4.tar.gz (14 kB)\n",
      "Collecting pyscreeze>=0.1.21\n",
      "  Downloading PyScreeze-0.1.28.tar.gz (25 kB)\n",
      "  Installing build dependencies: started\n",
      "  Installing build dependencies: finished with status 'done'\n",
      "  Getting requirements to build wheel: started\n",
      "  Getting requirements to build wheel: finished with status 'done'\n",
      "    Preparing wheel metadata: started\n",
      "    Preparing wheel metadata: finished with status 'done'\n",
      "Collecting pygetwindow>=0.0.5\n",
      "  Downloading PyGetWindow-0.0.9.tar.gz (9.7 kB)\n",
      "Collecting mouseinfo\n",
      "  Downloading MouseInfo-0.1.3.tar.gz (10 kB)\n",
      "Collecting pyrect\n",
      "  Downloading PyRect-0.1.4.tar.gz (15 kB)\n",
      "Requirement already satisfied: Pillow>=6.2.1 in c:\\users\\vinicius12011807\\anaconda3\\lib\\site-packages (from pyscreeze>=0.1.21->pyautogui) (8.2.0)\n",
      "Collecting pyperclip\n",
      "  Downloading pyperclip-1.8.2.tar.gz (20 kB)\n",
      "Building wheels for collected packages: pyautogui, pygetwindow, pyscreeze, PyTweening, mouseinfo, pymsgbox, pyperclip, pyrect\n",
      "  Building wheel for pyautogui (setup.py): started\n",
      "  Building wheel for pyautogui (setup.py): finished with status 'done'\n",
      "  Created wheel for pyautogui: filename=PyAutoGUI-0.9.53-py3-none-any.whl size=36583 sha256=cb76f63859f64ae73f21a8b7db0ffdd8efdf6addf8d035b31a6a95f1dad6a489\n",
      "  Stored in directory: c:\\users\\vinicius12011807\\appdata\\local\\pip\\cache\\wheels\\54\\04\\f7\\55704a9d374ed923785a4fdc0ef00151fa25306b3b93345532\n",
      "  Building wheel for pygetwindow (setup.py): started\n",
      "  Building wheel for pygetwindow (setup.py): finished with status 'done'\n",
      "  Created wheel for pygetwindow: filename=PyGetWindow-0.0.9-py3-none-any.whl size=11078 sha256=45c72001fdfd7b16d0b546f25cb38d0c27e12ee52e3b7ca3eeb19c052de1e7c9\n",
      "  Stored in directory: c:\\users\\vinicius12011807\\appdata\\local\\pip\\cache\\wheels\\91\\e3\\04\\184bda98ec7f7d5f0ba1f372bcf7b3ba86325151ae1dd690fe\n",
      "  Building wheel for pyscreeze (PEP 517): started\n",
      "  Building wheel for pyscreeze (PEP 517): finished with status 'done'\n",
      "  Created wheel for pyscreeze: filename=PyScreeze-0.1.28-py3-none-any.whl size=13023 sha256=8efaf8b39fa3b7a09d48c01040417187bf23c25fbb3a6d20a1d35b536acc4d6b\n",
      "  Stored in directory: c:\\users\\vinicius12011807\\appdata\\local\\pip\\cache\\wheels\\b1\\b0\\5c\\9fb5beb2d6c708479a670e92f4ab3b54523a15c9cd4a46e24e\n",
      "  Building wheel for PyTweening (setup.py): started\n",
      "  Building wheel for PyTweening (setup.py): finished with status 'done'\n",
      "  Created wheel for PyTweening: filename=pytweening-1.0.4-py3-none-any.whl size=5825 sha256=4a7387c4bb12b228bfd0d1db53deb815a0ad12d48697faba5acb06bdf7910092\n",
      "  Stored in directory: c:\\users\\vinicius12011807\\appdata\\local\\pip\\cache\\wheels\\a2\\1b\\69\\dc477653ccc19228bf53af76c623e4e82e5dc1b6f78d5c4d35\n",
      "  Building wheel for mouseinfo (setup.py): started\n",
      "  Building wheel for mouseinfo (setup.py): finished with status 'done'\n",
      "  Created wheel for mouseinfo: filename=MouseInfo-0.1.3-py3-none-any.whl size=10905 sha256=1788fa397e761cdcdd9bcfd54a563301350e61c2b7d07cc8b07c587f3f6578ad\n",
      "  Stored in directory: c:\\users\\vinicius12011807\\appdata\\local\\pip\\cache\\wheels\\d1\\72\\fb\\35f403de66285df8ecca7049bcc61bfb57aba0f76d1f08f7eb\n",
      "  Building wheel for pymsgbox (PEP 517): started\n",
      "  Building wheel for pymsgbox (PEP 517): finished with status 'done'\n",
      "  Created wheel for pymsgbox: filename=PyMsgBox-1.0.9-py3-none-any.whl size=7420 sha256=cdf67f879daeef0dade9d712d314c1544f7fba84403113852cd9054855835cb3\n",
      "  Stored in directory: c:\\users\\vinicius12011807\\appdata\\local\\pip\\cache\\wheels\\91\\28\\0d\\f4eb606d38276836237d6dc2abf094241e6db5682a126e0389\n",
      "  Building wheel for pyperclip (setup.py): started\n",
      "  Building wheel for pyperclip (setup.py): finished with status 'done'\n",
      "  Created wheel for pyperclip: filename=pyperclip-1.8.2-py3-none-any.whl size=11107 sha256=5e8cac3e5e7ffb9ac58b5755e3d2aabb3f38e46db135636cc59d5b5b5f9ad3de\n",
      "  Stored in directory: c:\\users\\vinicius12011807\\appdata\\local\\pip\\cache\\wheels\\7f\\1a\\65\\84ff8c386bec21fca6d220ea1f5498a0367883a78dd5ba6122\n",
      "  Building wheel for pyrect (setup.py): started\n",
      "  Building wheel for pyrect (setup.py): finished with status 'done'\n",
      "  Created wheel for pyrect: filename=PyRect-0.1.4-py2.py3-none-any.whl size=9547 sha256=98668913b33d7ec5dec8f9590badbab001fa4b1a4773046e09e36631cb23f9eb\n",
      "  Stored in directory: c:\\users\\vinicius12011807\\appdata\\local\\pip\\cache\\wheels\\d1\\e4\\47\\c62f8291b16b6df7e89ac885881ff71f35ca04c6e384251de9\n",
      "Successfully built pyautogui pygetwindow pyscreeze PyTweening mouseinfo pymsgbox pyperclip pyrect\n",
      "Installing collected packages: pyrect, pyperclip, PyTweening, pyscreeze, pymsgbox, pygetwindow, mouseinfo, pyautogui\n",
      "Successfully installed PyTweening-1.0.4 mouseinfo-0.1.3 pyautogui-0.9.53 pygetwindow-0.0.9 pymsgbox-1.0.9 pyperclip-1.8.2 pyrect-0.1.4 pyscreeze-0.1.28\n"
     ]
    }
   ],
   "source": [
    "%pip install pyautogui"
   ]
  },
  {
   "cell_type": "code",
   "execution_count": 1,
   "id": "5d3d135f",
   "metadata": {},
   "outputs": [],
   "source": [
    "import pyautogui as pag\n",
    "import time\n",
    "import random\n",
    "import os"
   ]
  },
  {
   "cell_type": "code",
   "execution_count": 2,
   "id": "d8ac9274",
   "metadata": {},
   "outputs": [],
   "source": [
    "pag.PAUSE = 0"
   ]
  },
  {
   "cell_type": "code",
   "execution_count": 121,
   "id": "4fe25997",
   "metadata": {},
   "outputs": [
    {
     "name": "stdout",
     "output_type": "stream",
     "text": [
      "Point(x=1420, y=601)\n",
      "Point(x=26, y=577)\n",
      "Point(x=185, y=557)\n",
      "Point(x=185, y=557)\n",
      "Point(x=340, y=923)\n",
      "Point(x=298, y=889)\n",
      "Point(x=298, y=889)\n",
      "Point(x=298, y=889)\n",
      "Point(x=1282, y=379)\n",
      "Point(x=456, y=902)\n",
      "Point(x=185, y=498)\n",
      "Point(x=184, y=486)\n",
      "Point(x=686, y=675)\n",
      "Point(x=165, y=481)\n",
      "Point(x=184, y=479)\n",
      "Point(x=184, y=479)\n",
      "Point(x=184, y=479)\n",
      "Point(x=184, y=479)\n",
      "Point(x=184, y=479)\n",
      "Point(x=184, y=479)\n",
      "Point(x=184, y=479)\n",
      "Point(x=184, y=479)\n",
      "Point(x=298, y=886)\n",
      "Point(x=298, y=886)\n",
      "Point(x=300, y=891)\n",
      "Point(x=300, y=891)\n",
      "Point(x=696, y=687)\n",
      "Point(x=719, y=691)\n",
      "Point(x=1404, y=540)\n",
      "Point(x=1328, y=234)\n",
      "Point(x=1338, y=211)\n",
      "Point(x=1224, y=943)\n",
      "Point(x=1283, y=913)\n",
      "Point(x=1315, y=770)\n",
      "Point(x=1314, y=379)\n",
      "Point(x=1340, y=174)\n"
     ]
    },
    {
     "ename": "KeyboardInterrupt",
     "evalue": "",
     "output_type": "error",
     "traceback": [
      "\u001b[1;31m---------------------------------------------------------------------------\u001b[0m",
      "\u001b[1;31mKeyboardInterrupt\u001b[0m                         Traceback (most recent call last)",
      "\u001b[1;32m<ipython-input-121-6efef1aa9485>\u001b[0m in \u001b[0;36m<module>\u001b[1;34m\u001b[0m\n\u001b[0;32m      1\u001b[0m \u001b[1;32mwhile\u001b[0m \u001b[1;32mTrue\u001b[0m\u001b[1;33m:\u001b[0m\u001b[1;33m\u001b[0m\u001b[1;33m\u001b[0m\u001b[0m\n\u001b[1;32m----> 2\u001b[1;33m     \u001b[0mtime\u001b[0m\u001b[1;33m.\u001b[0m\u001b[0msleep\u001b[0m\u001b[1;33m(\u001b[0m\u001b[1;36m1\u001b[0m\u001b[1;33m)\u001b[0m\u001b[1;33m\u001b[0m\u001b[1;33m\u001b[0m\u001b[0m\n\u001b[0m\u001b[0;32m      3\u001b[0m     \u001b[0mprint\u001b[0m\u001b[1;33m(\u001b[0m\u001b[0mpag\u001b[0m\u001b[1;33m.\u001b[0m\u001b[0mposition\u001b[0m\u001b[1;33m(\u001b[0m\u001b[1;33m)\u001b[0m\u001b[1;33m)\u001b[0m\u001b[1;33m\u001b[0m\u001b[1;33m\u001b[0m\u001b[0m\n",
      "\u001b[1;31mKeyboardInterrupt\u001b[0m: "
     ]
    }
   ],
   "source": [
    "while True:  \n",
    "    time.sleep(1)\n",
    "    print(pag.position())\n"
   ]
  },
  {
   "cell_type": "code",
   "execution_count": 124,
   "id": "935be1c2",
   "metadata": {},
   "outputs": [
    {
     "ename": "FailSafeException",
     "evalue": "PyAutoGUI fail-safe triggered from mouse moving to a corner of the screen. To disable this fail-safe, set pyautogui.FAILSAFE to False. DISABLING FAIL-SAFE IS NOT RECOMMENDED.",
     "output_type": "error",
     "traceback": [
      "\u001b[1;31m---------------------------------------------------------------------------\u001b[0m",
      "\u001b[1;31mFailSafeException\u001b[0m                         Traceback (most recent call last)",
      "\u001b[1;32m<ipython-input-124-66570f076314>\u001b[0m in \u001b[0;36m<module>\u001b[1;34m\u001b[0m\n\u001b[0;32m     47\u001b[0m     \u001b[0mpag\u001b[0m\u001b[1;33m.\u001b[0m\u001b[0mclick\u001b[0m\u001b[1;33m(\u001b[0m\u001b[1;33m)\u001b[0m\u001b[1;33m\u001b[0m\u001b[1;33m\u001b[0m\u001b[0m\n\u001b[0;32m     48\u001b[0m \u001b[1;33m\u001b[0m\u001b[0m\n\u001b[1;32m---> 49\u001b[1;33m     \u001b[0mpag\u001b[0m\u001b[1;33m.\u001b[0m\u001b[0mmoveTo\u001b[0m\u001b[1;33m(\u001b[0m\u001b[1;36m225\u001b[0m\u001b[1;33m,\u001b[0m \u001b[1;36m680\u001b[0m\u001b[1;33m,\u001b[0m \u001b[0mduration\u001b[0m\u001b[1;33m=\u001b[0m\u001b[1;36m0.5\u001b[0m\u001b[1;33m)\u001b[0m\u001b[1;33m\u001b[0m\u001b[1;33m\u001b[0m\u001b[0m\n\u001b[0m\u001b[0;32m     50\u001b[0m     \u001b[0mpag\u001b[0m\u001b[1;33m.\u001b[0m\u001b[0mclick\u001b[0m\u001b[1;33m(\u001b[0m\u001b[1;33m)\u001b[0m\u001b[1;33m\u001b[0m\u001b[1;33m\u001b[0m\u001b[0m\n\u001b[0;32m     51\u001b[0m     \u001b[0mpag\u001b[0m\u001b[1;33m.\u001b[0m\u001b[0mwrite\u001b[0m\u001b[1;33m(\u001b[0m\u001b[0mrandom\u001b[0m\u001b[1;33m.\u001b[0m\u001b[0mchoice\u001b[0m\u001b[1;33m(\u001b[0m\u001b[1;33m[\u001b[0m\u001b[1;34m'Nao'\u001b[0m\u001b[1;33m,\u001b[0m \u001b[1;34mf'R${20 * random.randint(1, 6)},00'\u001b[0m\u001b[1;33m,\u001b[0m \u001b[1;34mf'R${20 * random.randint(1, 6)},00'\u001b[0m\u001b[1;33m,\u001b[0m \u001b[1;34mf'R${20 * random.randint(1, 6)},00'\u001b[0m\u001b[1;33m,\u001b[0m \u001b[1;34mf'R${20 * random.randint(1, 6)},00'\u001b[0m\u001b[1;33m]\u001b[0m\u001b[1;33m)\u001b[0m\u001b[1;33m)\u001b[0m\u001b[1;33m\u001b[0m\u001b[1;33m\u001b[0m\u001b[0m\n",
      "\u001b[1;32m~\\anaconda3\\lib\\site-packages\\pyautogui\\__init__.py\u001b[0m in \u001b[0;36mwrapper\u001b[1;34m(*args, **kwargs)\u001b[0m\n\u001b[0;32m    596\u001b[0m     \u001b[1;32mdef\u001b[0m \u001b[0mwrapper\u001b[0m\u001b[1;33m(\u001b[0m\u001b[1;33m*\u001b[0m\u001b[0margs\u001b[0m\u001b[1;33m,\u001b[0m \u001b[1;33m**\u001b[0m\u001b[0mkwargs\u001b[0m\u001b[1;33m)\u001b[0m\u001b[1;33m:\u001b[0m\u001b[1;33m\u001b[0m\u001b[1;33m\u001b[0m\u001b[0m\n\u001b[0;32m    597\u001b[0m         \u001b[0mfailSafeCheck\u001b[0m\u001b[1;33m(\u001b[0m\u001b[1;33m)\u001b[0m\u001b[1;33m\u001b[0m\u001b[1;33m\u001b[0m\u001b[0m\n\u001b[1;32m--> 598\u001b[1;33m         \u001b[0mreturnVal\u001b[0m \u001b[1;33m=\u001b[0m \u001b[0mwrappedFunction\u001b[0m\u001b[1;33m(\u001b[0m\u001b[1;33m*\u001b[0m\u001b[0margs\u001b[0m\u001b[1;33m,\u001b[0m \u001b[1;33m**\u001b[0m\u001b[0mkwargs\u001b[0m\u001b[1;33m)\u001b[0m\u001b[1;33m\u001b[0m\u001b[1;33m\u001b[0m\u001b[0m\n\u001b[0m\u001b[0;32m    599\u001b[0m         \u001b[0m_handlePause\u001b[0m\u001b[1;33m(\u001b[0m\u001b[0mkwargs\u001b[0m\u001b[1;33m.\u001b[0m\u001b[0mget\u001b[0m\u001b[1;33m(\u001b[0m\u001b[1;34m\"_pause\"\u001b[0m\u001b[1;33m,\u001b[0m \u001b[1;32mTrue\u001b[0m\u001b[1;33m)\u001b[0m\u001b[1;33m)\u001b[0m\u001b[1;33m\u001b[0m\u001b[1;33m\u001b[0m\u001b[0m\n\u001b[0;32m    600\u001b[0m         \u001b[1;32mreturn\u001b[0m \u001b[0mreturnVal\u001b[0m\u001b[1;33m\u001b[0m\u001b[1;33m\u001b[0m\u001b[0m\n",
      "\u001b[1;32m~\\anaconda3\\lib\\site-packages\\pyautogui\\__init__.py\u001b[0m in \u001b[0;36mmoveTo\u001b[1;34m(x, y, duration, tween, logScreenshot, _pause)\u001b[0m\n\u001b[0;32m   1281\u001b[0m \u001b[1;33m\u001b[0m\u001b[0m\n\u001b[0;32m   1282\u001b[0m     \u001b[0m_logScreenshot\u001b[0m\u001b[1;33m(\u001b[0m\u001b[0mlogScreenshot\u001b[0m\u001b[1;33m,\u001b[0m \u001b[1;34m\"moveTo\"\u001b[0m\u001b[1;33m,\u001b[0m \u001b[1;34m\"%s,%s\"\u001b[0m \u001b[1;33m%\u001b[0m \u001b[1;33m(\u001b[0m\u001b[0mx\u001b[0m\u001b[1;33m,\u001b[0m \u001b[0my\u001b[0m\u001b[1;33m)\u001b[0m\u001b[1;33m,\u001b[0m \u001b[0mfolder\u001b[0m\u001b[1;33m=\u001b[0m\u001b[1;34m\".\"\u001b[0m\u001b[1;33m)\u001b[0m\u001b[1;33m\u001b[0m\u001b[1;33m\u001b[0m\u001b[0m\n\u001b[1;32m-> 1283\u001b[1;33m     \u001b[0m_mouseMoveDrag\u001b[0m\u001b[1;33m(\u001b[0m\u001b[1;34m\"move\"\u001b[0m\u001b[1;33m,\u001b[0m \u001b[0mx\u001b[0m\u001b[1;33m,\u001b[0m \u001b[0my\u001b[0m\u001b[1;33m,\u001b[0m \u001b[1;36m0\u001b[0m\u001b[1;33m,\u001b[0m \u001b[1;36m0\u001b[0m\u001b[1;33m,\u001b[0m \u001b[0mduration\u001b[0m\u001b[1;33m,\u001b[0m \u001b[0mtween\u001b[0m\u001b[1;33m)\u001b[0m\u001b[1;33m\u001b[0m\u001b[1;33m\u001b[0m\u001b[0m\n\u001b[0m\u001b[0;32m   1284\u001b[0m \u001b[1;33m\u001b[0m\u001b[0m\n\u001b[0;32m   1285\u001b[0m \u001b[1;33m\u001b[0m\u001b[0m\n",
      "\u001b[1;32m~\\anaconda3\\lib\\site-packages\\pyautogui\\__init__.py\u001b[0m in \u001b[0;36m_mouseMoveDrag\u001b[1;34m(moveOrDrag, x, y, xOffset, yOffset, duration, tween, button)\u001b[0m\n\u001b[0;32m   1497\u001b[0m         \u001b[1;31m# doesn't mean the user couldn't have moved the mouse cursor to a fail-safe position.)\u001b[0m\u001b[1;33m\u001b[0m\u001b[1;33m\u001b[0m\u001b[1;33m\u001b[0m\u001b[0m\n\u001b[0;32m   1498\u001b[0m         \u001b[1;32mif\u001b[0m \u001b[1;33m(\u001b[0m\u001b[0mtweenX\u001b[0m\u001b[1;33m,\u001b[0m \u001b[0mtweenY\u001b[0m\u001b[1;33m)\u001b[0m \u001b[1;32mnot\u001b[0m \u001b[1;32min\u001b[0m \u001b[0mFAILSAFE_POINTS\u001b[0m\u001b[1;33m:\u001b[0m\u001b[1;33m\u001b[0m\u001b[1;33m\u001b[0m\u001b[0m\n\u001b[1;32m-> 1499\u001b[1;33m             \u001b[0mfailSafeCheck\u001b[0m\u001b[1;33m(\u001b[0m\u001b[1;33m)\u001b[0m\u001b[1;33m\u001b[0m\u001b[1;33m\u001b[0m\u001b[0m\n\u001b[0m\u001b[0;32m   1500\u001b[0m \u001b[1;33m\u001b[0m\u001b[0m\n\u001b[0;32m   1501\u001b[0m         \u001b[1;32mif\u001b[0m \u001b[0mmoveOrDrag\u001b[0m \u001b[1;33m==\u001b[0m \u001b[1;34m\"move\"\u001b[0m\u001b[1;33m:\u001b[0m\u001b[1;33m\u001b[0m\u001b[1;33m\u001b[0m\u001b[0m\n",
      "\u001b[1;32m~\\anaconda3\\lib\\site-packages\\pyautogui\\__init__.py\u001b[0m in \u001b[0;36mfailSafeCheck\u001b[1;34m()\u001b[0m\n\u001b[0;32m   1720\u001b[0m \u001b[1;32mdef\u001b[0m \u001b[0mfailSafeCheck\u001b[0m\u001b[1;33m(\u001b[0m\u001b[1;33m)\u001b[0m\u001b[1;33m:\u001b[0m\u001b[1;33m\u001b[0m\u001b[1;33m\u001b[0m\u001b[0m\n\u001b[0;32m   1721\u001b[0m     \u001b[1;32mif\u001b[0m \u001b[0mFAILSAFE\u001b[0m \u001b[1;32mand\u001b[0m \u001b[0mtuple\u001b[0m\u001b[1;33m(\u001b[0m\u001b[0mposition\u001b[0m\u001b[1;33m(\u001b[0m\u001b[1;33m)\u001b[0m\u001b[1;33m)\u001b[0m \u001b[1;32min\u001b[0m \u001b[0mFAILSAFE_POINTS\u001b[0m\u001b[1;33m:\u001b[0m\u001b[1;33m\u001b[0m\u001b[1;33m\u001b[0m\u001b[0m\n\u001b[1;32m-> 1722\u001b[1;33m         raise FailSafeException(\n\u001b[0m\u001b[0;32m   1723\u001b[0m             \u001b[1;34m\"PyAutoGUI fail-safe triggered from mouse moving to a corner of the screen. To disable this fail-safe, set pyautogui.FAILSAFE to False. DISABLING FAIL-SAFE IS NOT RECOMMENDED.\"\u001b[0m\u001b[1;33m\u001b[0m\u001b[1;33m\u001b[0m\u001b[0m\n\u001b[0;32m   1724\u001b[0m         )\n",
      "\u001b[1;31mFailSafeException\u001b[0m: PyAutoGUI fail-safe triggered from mouse moving to a corner of the screen. To disable this fail-safe, set pyautogui.FAILSAFE to False. DISABLING FAIL-SAFE IS NOT RECOMMENDED."
     ]
    }
   ],
   "source": [
    "while True:\n",
    "    pag.moveTo(180, random.choice([600, 640, 680]), duration=0.5)\n",
    "    pag.click()\n",
    "    \n",
    "    options = [860, 890, 930, 960, 1000]\n",
    "    number = random.choice(options)\n",
    "    pag.moveTo(180, number, duration=0.5)\n",
    "    pag.click()\n",
    "    \n",
    "    time.sleep(0.5)\n",
    "    pag.scroll(-1000)\n",
    "\n",
    "\n",
    "    pag.moveTo(180, random.choice([320, 360]), duration=0.5)\n",
    "    pag.click()\n",
    "    if pag.position()[1] == 360: \n",
    "        pular_pra_terceira_parte = True\n",
    "    else:\n",
    "        pular_pra_terceira_parte = False\n",
    "\n",
    "\n",
    "    options = [500, 540, 580, 620, 660, 700, 740, 740]\n",
    "    for x in range(0, random.randint(1, 8)):\n",
    "        number = random.choice(options)\n",
    "        options.remove(number)\n",
    "        pag.moveTo(180, number, duration=0.5)\n",
    "        pag.click()\n",
    "\n",
    "    pag.moveTo(180, 860, duration=0.5)\n",
    "    pag.click()\n",
    "    time.sleep(5)\n",
    "\n",
    "    if not pular_pra_terceira_parte:\n",
    "        pag.moveTo(240 + 50*random.randint(0,9) ,440 , duration=0.5)\n",
    "        pag.click()\n",
    "        for y in range(0, 5):\n",
    "            print(y)\n",
    "            pag.moveTo(random.choice([340, 430, 520, 610, 700]), 640 + 55 *y , duration=0.5)\n",
    "            pag.click()\n",
    "\n",
    "        pag.moveTo(300 ,960, duration=0.5)\n",
    "        pag.click()\n",
    "        time.sleep(5)\n",
    "\n",
    "\n",
    "    pag.moveTo(180 ,random.choice([390,440, 470]) , duration=0.5)\n",
    "    pag.click()\n",
    "\n",
    "    pag.moveTo(225, 680, duration=0.5)\n",
    "    pag.click()\n",
    "    pag.write(random.choice(['Nao', f'R${20 * random.randint(1, 6)},00', f'R${20 * random.randint(1, 6)},00', f'R${20 * random.randint(1, 6)},00', f'R${20 * random.randint(1, 6)},00']))\n",
    "\n",
    "    pag.moveTo(225, 860, duration=0.5)\n",
    "    pag.click()\n",
    "    pag.write(random.choice(['Nao', f'R${50 * random.randint(1, 6)},00', f'R${20 * random.randint(1, 6)},00', f'R${20 * random.randint(1, 6)},00', f'R${20 * random.randint(1, 6)},00']))\n",
    "\n",
    "    pag.moveTo(225, 1020, duration=0.5)\n",
    "    pag.click()\n",
    "    pag.write(random.choice(['Nao', f'R${500 * random.randint(1, 6)},00', f'R${20 * random.randint(1, 6)},00', f'R${20 * random.randint(1, 6)},00', f'R${20 * random.randint(1, 6)},00']))\n",
    "\n",
    "    time.sleep(0.5)\n",
    "    pag.scroll(-1000)\n",
    "\n",
    "    pag.moveTo(180 ,480 + 30 * random.randint(0,5)  , duration=0.5)\n",
    "    pag.click()\n",
    "\n",
    "    pag.moveTo(300, 900, duration=1)\n",
    "    pag.click()\n",
    "\n",
    "\n",
    "    pag.moveTo(270, 240, duration=1)\n",
    "    pag.click()\n",
    "    time.sleep(5)"
   ]
  },
  {
   "cell_type": "code",
   "execution_count": 80,
   "id": "4ea3df06",
   "metadata": {},
   "outputs": [
    {
     "name": "stdout",
     "output_type": "stream",
     "text": [
      "0\n",
      "1\n",
      "2\n",
      "3\n",
      "4\n"
     ]
    }
   ],
   "source": [
    "pag.moveTo(240 + 50*random.randint(0,9) ,440 , duration=1)\n",
    "pag.click()\n",
    "for y in range(0, 5):\n",
    "    print(y)\n",
    "    pag.moveTo(random.choice([340, 430, 520, 610, 700]), 640 + 55 *y , duration=1)\n",
    "    pag.click()\n",
    "\n",
    "pag.moveTo(300 ,960, duration=1)\n",
    "pag.click()"
   ]
  },
  {
   "cell_type": "code",
   "execution_count": 103,
   "id": "5d55e61a",
   "metadata": {},
   "outputs": [],
   "source": [
    "pag.moveTo(180 ,random.choice([390,440, 470]) , duration=1)\n",
    "pag.click()\n",
    "\n",
    "pag.moveTo(225, 680, duration=1)\n",
    "pag.click()\n",
    "pag.write(random.choice(['Nao', f'R${20 * random.randint(1, 6)},00', f'R${20 * random.randint(1, 6)},00', f'R${20 * random.randint(1, 6)},00', f'R${20 * random.randint(1, 6)},00']))\n",
    "\n",
    "pag.moveTo(225, 860, duration=1)\n",
    "pag.click()\n",
    "pag.write(random.choice(['Nao', f'R${50 * random.randint(1, 6)},00', f'R${20 * random.randint(1, 6)},00', f'R${20 * random.randint(1, 6)},00', f'R${20 * random.randint(1, 6)},00']))\n",
    "\n",
    "pag.moveTo(225, 1020, duration=1)\n",
    "pag.click()\n",
    "pag.write(random.choice(['Nao', f'R${500 * random.randint(1, 6)},00', f'R${20 * random.randint(1, 6)},00', f'R${20 * random.randint(1, 6)},00', f'R${20 * random.randint(1, 6)},00']))\n",
    "\n",
    "pag.scroll(-1000)\n",
    "\n",
    "pag.moveTo(180 ,440 + 30 * random.randint(0,6)  , duration=2)\n",
    "pag.click()\n",
    "\n",
    "pag.moveTo(300, 900, duration=1)\n",
    "pag.click()"
   ]
  },
  {
   "cell_type": "code",
   "execution_count": null,
   "id": "d0063fbe",
   "metadata": {},
   "outputs": [],
   "source": []
  },
  {
   "cell_type": "code",
   "execution_count": null,
   "id": "26a18048",
   "metadata": {},
   "outputs": [],
   "source": []
  },
  {
   "cell_type": "code",
   "execution_count": null,
   "id": "a41b3e64",
   "metadata": {},
   "outputs": [],
   "source": []
  },
  {
   "cell_type": "code",
   "execution_count": null,
   "id": "5d3b2c3e",
   "metadata": {},
   "outputs": [],
   "source": []
  },
  {
   "cell_type": "code",
   "execution_count": null,
   "id": "96e31349",
   "metadata": {},
   "outputs": [],
   "source": []
  },
  {
   "cell_type": "code",
   "execution_count": null,
   "id": "658cdf4a",
   "metadata": {},
   "outputs": [],
   "source": []
  },
  {
   "cell_type": "code",
   "execution_count": null,
   "id": "676b638f",
   "metadata": {},
   "outputs": [],
   "source": []
  },
  {
   "cell_type": "code",
   "execution_count": null,
   "id": "85636994",
   "metadata": {},
   "outputs": [],
   "source": []
  },
  {
   "cell_type": "code",
   "execution_count": null,
   "id": "acf21271",
   "metadata": {},
   "outputs": [],
   "source": []
  }
 ],
 "metadata": {
  "kernelspec": {
   "display_name": "Python 3",
   "language": "python",
   "name": "python3"
  },
  "language_info": {
   "codemirror_mode": {
    "name": "ipython",
    "version": 3
   },
   "file_extension": ".py",
   "mimetype": "text/x-python",
   "name": "python",
   "nbconvert_exporter": "python",
   "pygments_lexer": "ipython3",
   "version": "3.8.8"
  }
 },
 "nbformat": 4,
 "nbformat_minor": 5
}
