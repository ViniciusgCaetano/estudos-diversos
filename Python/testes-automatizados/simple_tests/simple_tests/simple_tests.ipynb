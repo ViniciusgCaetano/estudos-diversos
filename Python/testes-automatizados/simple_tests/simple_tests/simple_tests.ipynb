{
 "cells": [
  {
   "cell_type": "code",
   "execution_count": 1,
   "id": "d8860987-d26c-4cf3-bda2-96fa4e071249",
   "metadata": {},
   "outputs": [
    {
     "name": "stdout",
     "output_type": "stream",
     "text": [
      "Collecting pytest\n",
      "  Downloading pytest-7.2.0-py3-none-any.whl (316 kB)\n",
      "     -------------------------------------- 316.8/316.8 kB 2.8 MB/s eta 0:00:00\n",
      "Requirement already satisfied: colorama in c:\\users\\vinic\\appdata\\local\\programs\\python\\python310\\lib\\site-packages (from pytest) (0.4.5)\n",
      "Collecting iniconfig\n",
      "  Downloading iniconfig-1.1.1-py2.py3-none-any.whl (5.0 kB)\n",
      "Collecting exceptiongroup>=1.0.0rc8\n",
      "  Downloading exceptiongroup-1.0.4-py3-none-any.whl (14 kB)\n",
      "Collecting pluggy<2.0,>=0.12\n",
      "  Downloading pluggy-1.0.0-py2.py3-none-any.whl (13 kB)\n",
      "Requirement already satisfied: packaging in c:\\users\\vinic\\appdata\\local\\programs\\python\\python310\\lib\\site-packages (from pytest) (21.3)\n",
      "Requirement already satisfied: tomli>=1.0.0 in c:\\users\\vinic\\appdata\\local\\programs\\python\\python310\\lib\\site-packages (from pytest) (2.0.1)\n",
      "Requirement already satisfied: attrs>=19.2.0 in c:\\users\\vinic\\appdata\\local\\programs\\python\\python310\\lib\\site-packages (from pytest) (22.1.0)\n",
      "Requirement already satisfied: pyparsing!=3.0.5,>=2.0.2 in c:\\users\\vinic\\appdata\\local\\programs\\python\\python310\\lib\\site-packages (from packaging->pytest) (3.0.9)\n",
      "Installing collected packages: iniconfig, pluggy, exceptiongroup, pytest\n",
      "Successfully installed exceptiongroup-1.0.4 iniconfig-1.1.1 pluggy-1.0.0 pytest-7.2.0\n",
      "Note: you may need to restart the kernel to use updated packages.\n"
     ]
    },
    {
     "name": "stderr",
     "output_type": "stream",
     "text": [
      "\n",
      "[notice] A new release of pip available: 22.2.2 -> 22.3.1\n",
      "[notice] To update, run: python.exe -m pip install --upgrade pip\n"
     ]
    }
   ],
   "source": [
    "%pip install pytest"
   ]
  },
  {
   "cell_type": "code",
   "execution_count": 14,
   "id": "79de379d-ac18-43e4-8af4-ca08c9433172",
   "metadata": {},
   "outputs": [
    {
     "name": "stdout",
     "output_type": "stream",
     "text": [
      "============================= test session starts =============================\n",
      "platform win32 -- Python 3.10.7, pytest-7.2.0, pluggy-1.0.0 -- C:\\Users\\vinic\\AppData\\Local\\Programs\\Python\\Python310\\python.exe\n",
      "cachedir: .pytest_cache\n",
      "rootdir: D:\\Código\\estudos-diversos\\Python\\testes-automatizados\\simple_tests\\simple_tests\n",
      "plugins: anyio-3.6.2\n",
      "collecting ... collected 1 item\n",
      "\n",
      "test_1.py::test PASSED                                                   [100%]\n",
      "\n",
      "============================== 1 passed in 0.01s ==============================\n"
     ]
    }
   ],
   "source": [
    "! pytest -v test_1.py"
   ]
  },
  {
   "cell_type": "code",
   "execution_count": null,
   "id": "68cd8ce8-e41d-4eda-a3bd-304d43fb0627",
   "metadata": {},
   "outputs": [],
   "source": []
  }
 ],
 "metadata": {
  "kernelspec": {
   "display_name": "Python 3 (ipykernel)",
   "language": "python",
   "name": "python3"
  },
  "language_info": {
   "codemirror_mode": {
    "name": "ipython",
    "version": 3
   },
   "file_extension": ".py",
   "mimetype": "text/x-python",
   "name": "python",
   "nbconvert_exporter": "python",
   "pygments_lexer": "ipython3",
   "version": "3.10.7"
  }
 },
 "nbformat": 4,
 "nbformat_minor": 5
}
