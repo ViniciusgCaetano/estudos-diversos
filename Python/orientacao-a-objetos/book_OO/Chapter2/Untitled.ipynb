{
 "cells": [
  {
   "cell_type": "code",
   "execution_count": 1,
   "id": "308d0e7c",
   "metadata": {},
   "outputs": [],
   "source": [
    "class SecretString:\n",
    "    '''A not-at-all secure way to store a secret string.'''\n",
    "    def __init__(self, plain_string, pass_phrase):\n",
    "        self.__plain_string = plain_string\n",
    "        self.__pass_phrase = pass_phrase\n",
    "    def decrypt(self, pass_phrase):\n",
    "        '''Only show the string if the pass_phrase is correct.'''\n",
    "        if pass_phrase == self.__pass_phrase:\n",
    "            return self.__plain_string\n",
    "        else:\n",
    "            return ''\n"
   ]
  },
  {
   "cell_type": "code",
   "execution_count": 3,
   "id": "512fb1c4",
   "metadata": {},
   "outputs": [],
   "source": [
    "a = SecretString('uuuu', 'senha')"
   ]
  },
  {
   "cell_type": "code",
   "execution_count": 10,
   "id": "7f085046",
   "metadata": {},
   "outputs": [
    {
     "data": {
      "text/plain": [
       "'uuuu'"
      ]
     },
     "execution_count": 10,
     "metadata": {},
     "output_type": "execute_result"
    }
   ],
   "source": []
  },
  {
   "cell_type": "code",
   "execution_count": null,
   "id": "c5cd7785",
   "metadata": {},
   "outputs": [],
   "source": []
  }
 ],
 "metadata": {
  "kernelspec": {
   "display_name": "Python 3",
   "language": "python",
   "name": "python3"
  },
  "language_info": {
   "codemirror_mode": {
    "name": "ipython",
    "version": 3
   },
   "file_extension": ".py",
   "mimetype": "text/x-python",
   "name": "python",
   "nbconvert_exporter": "python",
   "pygments_lexer": "ipython3",
   "version": "3.8.8"
  },
  "latex_envs": {
   "LaTeX_envs_menu_present": true,
   "autoclose": false,
   "autocomplete": true,
   "bibliofile": "biblio.bib",
   "cite_by": "apalike",
   "current_citInitial": 1,
   "eqLabelWithNumbers": true,
   "eqNumInitial": 1,
   "hotkeys": {
    "equation": "Ctrl-E",
    "itemize": "Ctrl-I"
   },
   "labels_anchors": false,
   "latex_user_defs": false,
   "report_style_numbering": false,
   "user_envs_cfg": false
  }
 },
 "nbformat": 4,
 "nbformat_minor": 5
}
