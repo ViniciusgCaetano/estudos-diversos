{
 "cells": [
  {
   "cell_type": "code",
   "execution_count": 54,
   "id": "f6b7d65c",
   "metadata": {},
   "outputs": [],
   "source": [
    "class Conta:\n",
    "    \n",
    "    def __init__(self, numero, titular, saldo, limite):\n",
    "        print(f\"Construindo o objeto {self}\")\n",
    "        self.__numero = numero\n",
    "        self.__titular = titular\n",
    "        self.__saldo = saldo\n",
    "        self.__limite = limite\n",
    "    \n",
    "    def extrato(self):\n",
    "        print(\"Saldo de {} do titular {}\".format(self.__saldo, self.__titular))\n",
    "        \n",
    "    def deposita(self, valor):\n",
    "        self.__saldo += valor\n",
    "    \n",
    "    def __pode_sacar(self, valor_a_sacar):\n",
    "        valor_disponivel = self.__saldo + self.__limite\n",
    "        return(valor_a_sacar <= valor_disponivel)\n",
    "    \n",
    "    def saca(self, valor):\n",
    "        if (self.__pode_sacar(valor)):\n",
    "            print(\"Não se pode sacar mais que o saldo + o limite!\")\n",
    "        else:\n",
    "            self.__saldo -= valor\n",
    "        \n",
    "    def transfere(self, valor, destino):\n",
    "        self.saca(valor)\n",
    "        destino.deposita(valor)\n",
    "    \n",
    "    @staticmethod\n",
    "    def codigo_banco():\n",
    "        return \"001\"\n",
    "    \n",
    "    @staticmethod\n",
    "    def codigos_bancos():\n",
    "        return {\"BB\":'001', \"Caixa\":'104', \"Bradesco\":'237'}\n",
    "    \n",
    "    @property\n",
    "    def saldo(self):\n",
    "        return self.__saldo\n",
    "    \n",
    "    @property\n",
    "    def titular(self):\n",
    "        return self.__saldo\n",
    "    \n",
    "    @property\n",
    "    def limite(self):\n",
    "        return self.__limite\n",
    "    \n",
    "    @limite.setter\n",
    "    def limite(self, novo_limite):\n",
    "        self.__limite = novo_limite"
   ]
  },
  {
   "cell_type": "code",
   "execution_count": 55,
   "id": "2bedc245",
   "metadata": {},
   "outputs": [
    {
     "name": "stdout",
     "output_type": "stream",
     "text": [
      "Construindo o objeto <__main__.Conta object at 0x0000013A119C7490>\n",
      "Construindo o objeto <__main__.Conta object at 0x0000013A119C7CD0>\n"
     ]
    }
   ],
   "source": [
    "conta1 = Conta(123, \"Vinicius\", 100, 1000)\n",
    "conta2 = Conta(321, \"Niko\", 200, 500)"
   ]
  },
  {
   "cell_type": "code",
   "execution_count": 56,
   "id": "51aa1d99",
   "metadata": {},
   "outputs": [
    {
     "name": "stdout",
     "output_type": "stream",
     "text": [
      "Não se pode sacar mais que o saldo + o limite!\n"
     ]
    }
   ],
   "source": [
    "conta1.saca(100)\n",
    "conta1.saca(10000)"
   ]
  },
  {
   "cell_type": "code",
   "execution_count": 57,
   "id": "68c5e321",
   "metadata": {},
   "outputs": [
    {
     "data": {
      "text/plain": [
       "500"
      ]
     },
     "execution_count": 57,
     "metadata": {},
     "output_type": "execute_result"
    }
   ],
   "source": [
    "conta1.limite\n",
    "conta1.limite = 500\n",
    "conta1.limite"
   ]
  },
  {
   "cell_type": "code",
   "execution_count": 58,
   "id": "5dd10b10",
   "metadata": {},
   "outputs": [
    {
     "data": {
      "text/plain": [
       "'001'"
      ]
     },
     "execution_count": 58,
     "metadata": {},
     "output_type": "execute_result"
    }
   ],
   "source": [
    "Conta.codigo_banco()"
   ]
  },
  {
   "cell_type": "code",
   "execution_count": 20,
   "id": "bfd8b9d0",
   "metadata": {},
   "outputs": [],
   "source": [
    "class Cliente:\n",
    "    \n",
    "    def __init__(self, nome):\n",
    "        self.__nome = nome\n",
    "    \n",
    "    @property\n",
    "    def nome(self):\n",
    "        print(\"chamando property nome\")\n",
    "        return self.__nome.title()\n",
    "    \n",
    "    @property\n",
    "    def titular(self):\n",
    "        return self.__titular\n",
    "    \n",
    "    @property\n",
    "    def limite(self):\n",
    "        return self.__limite\n",
    "    \n",
    "    @limite.setter\n",
    "    def limite(self, limite):\n",
    "        self.__limite = limite\n",
    "        \n",
    "    @nome.setter\n",
    "    def nome(self, nome):\n",
    "        print(\"Chamando setter nome()\")\n",
    "        self.__nome = nome"
   ]
  },
  {
   "cell_type": "code",
   "execution_count": 16,
   "id": "3a806aa1",
   "metadata": {},
   "outputs": [],
   "source": [
    "cliente1 = Cliente(\"vinicius\")"
   ]
  },
  {
   "cell_type": "code",
   "execution_count": 19,
   "id": "33700e50",
   "metadata": {},
   "outputs": [
    {
     "name": "stdout",
     "output_type": "stream",
     "text": [
      "Chamando setter nome()\n",
      "chamando property nome\n"
     ]
    },
    {
     "data": {
      "text/plain": [
       "'Marco'"
      ]
     },
     "execution_count": 19,
     "metadata": {},
     "output_type": "execute_result"
    }
   ],
   "source": [
    "cliente1.nome = \"Marco\"\n",
    "\n",
    "cliente1.nome"
   ]
  },
  {
   "cell_type": "code",
   "execution_count": null,
   "id": "7fc06d93",
   "metadata": {},
   "outputs": [],
   "source": []
  }
 ],
 "metadata": {
  "kernelspec": {
   "display_name": "Python 3",
   "language": "python",
   "name": "python3"
  },
  "language_info": {
   "codemirror_mode": {
    "name": "ipython",
    "version": 3
   },
   "file_extension": ".py",
   "mimetype": "text/x-python",
   "name": "python",
   "nbconvert_exporter": "python",
   "pygments_lexer": "ipython3",
   "version": "3.8.8"
  }
 },
 "nbformat": 4,
 "nbformat_minor": 5
}
