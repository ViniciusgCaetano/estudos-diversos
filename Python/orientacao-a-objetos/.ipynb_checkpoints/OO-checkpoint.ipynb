{
 "cells": [
  {
   "cell_type": "code",
   "execution_count": 14,
   "id": "ed4dedba",
   "metadata": {},
   "outputs": [],
   "source": [
    "class Pessoa:\n",
    "    def __init__(self, nome, idade, sexo, altura):\n",
    "        self.nome = nome\n",
    "        self.idade = idade\n",
    "        self.sexo = sexo\n",
    "        self.altura = altura\n",
    "        \n",
    "    def acao1(self):\n",
    "        print('Ação 1 sendo executada...')\n"
   ]
  },
  {
   "cell_type": "code",
   "execution_count": 18,
   "id": "70455e38",
   "metadata": {},
   "outputs": [
    {
     "data": {
      "text/plain": [
       "<__main__.Pessoa at 0x22a87ce38e0>"
      ]
     },
     "execution_count": 18,
     "metadata": {},
     "output_type": "execute_result"
    }
   ],
   "source": [
    "pessoa1 = Pessoa('Vinicius', 16, 'M', 1.70)\n",
    "pessoa1"
   ]
  },
  {
   "cell_type": "code",
   "execution_count": 59,
   "id": "420989df",
   "metadata": {},
   "outputs": [],
   "source": [
    "#Escopo\n",
    "class Pessoa:\n",
    "    administrador = 'Admin'\n",
    "    \n",
    "    def __init__(self, nome, msg):\n",
    "        self.nome = nome\n",
    "        self.msg = msg\n",
    "        print(msg)\n",
    "        \n",
    "    def metodo1(self):\n",
    "        print(msg)\n",
    "        pass"
   ]
  },
  {
   "cell_type": "code",
   "execution_count": 60,
   "id": "03f3920d",
   "metadata": {},
   "outputs": [
    {
     "name": "stdout",
     "output_type": "stream",
     "text": [
      "Olá mundo\n"
     ]
    },
    {
     "data": {
      "text/plain": [
       "'Admin'"
      ]
     },
     "execution_count": 60,
     "metadata": {},
     "output_type": "execute_result"
    }
   ],
   "source": [
    "var1 = Pessoa('Vinícius', 'Olá mundo')\n",
    "var1.administrador"
   ]
  },
  {
   "cell_type": "code",
   "execution_count": 47,
   "id": "09526893",
   "metadata": {},
   "outputs": [],
   "source": [
    "#Utilizando varáveis para realizar operações dentro do escopo local\n",
    "class Pessoa:\n",
    "    ano_atual = 2021\n",
    "    \n",
    "    def __init__(self, nome, idade):\n",
    "        self.nome = nome\n",
    "        self.idade = idade\n",
    "    \n",
    "    def ano_nascimento(self):\n",
    "        ano_nasc = self.ano_atual - self.idade\n",
    "        print(f'Seu ano de nascimento é {ano_nasc}')\n",
    "    "
   ]
  },
  {
   "cell_type": "code",
   "execution_count": 49,
   "id": "cdc164f9",
   "metadata": {},
   "outputs": [
    {
     "name": "stdout",
     "output_type": "stream",
     "text": [
      "Seu ano de nascimento é 2005\n"
     ]
    }
   ],
   "source": [
    "pessoa1 = Pessoa('Vinicius', 16)\n",
    "pessoa1.ano_nascimento()"
   ]
  },
  {
   "cell_type": "code",
   "execution_count": 56,
   "id": "5dd4ecd7",
   "metadata": {},
   "outputs": [
    {
     "name": "stdout",
     "output_type": "stream",
     "text": [
      "Bem vindo Vinicius, você está logado no sistema.\n",
      "Você está deslogado.\n"
     ]
    },
    {
     "data": {
      "text/plain": [
       "True"
      ]
     },
     "execution_count": 56,
     "metadata": {},
     "output_type": "execute_result"
    }
   ],
   "source": [
    "#Alternando atirbutos\n",
    "class Pessoa:\n",
    "    def __init__(self, nome, login=False, logoff=False):\n",
    "        self.nome = nome\n",
    "        self.login = login\n",
    "        self.logoff = logoff\n",
    "    \n",
    "    def logar(self):\n",
    "        print(f'Bem vindo {self.nome}, você está logado no sistema.')\n",
    "        self.login = True\n",
    "        \n",
    "    def deslogar(self):\n",
    "        print('Você está deslogado.')\n",
    "        self.login = False\n",
    "        self.logoff = True"
   ]
  },
  {
   "cell_type": "code",
   "execution_count": null,
   "id": "3c3efb9f",
   "metadata": {},
   "outputs": [],
   "source": [
    "usuario = Pessoa('Vinicius')\n",
    "usuario.logar()\n",
    "usuario.deslogar()\n",
    "usuario.logoff"
   ]
  },
  {
   "cell_type": "code",
   "execution_count": 74,
   "id": "bb411d49",
   "metadata": {},
   "outputs": [],
   "source": [
    "#Estruturas condicionais dentro de classes\n",
    "class Pessoa:\n",
    "    def __init__(self, nome, login=False, logoff=False):\n",
    "        self.nome = nome\n",
    "        self.login = login\n",
    "        self.logoff = logoff\n",
    "    \n",
    "    def logar(self):\n",
    "        if self.login:        \n",
    "            print(f'Bem vindo {self.nome}, você já está logado no sistema.')\n",
    "            return\n",
    "        print(f'Bem vindo {self.nome}, você está logado no sistema.')\n",
    "        self.login = True\n",
    "        self.logoff = False\n",
    "\n",
    "    def deslogar(self):\n",
    "        \n",
    "        if self.login:\n",
    "            print('Você está sendo deslogado')\n",
    "            self.login = False\n",
    "            self.logoff = True\n",
    "            return\n",
    "        \n",
    "        print('Você não está logado ainda.')\n"
   ]
  },
  {
   "cell_type": "code",
   "execution_count": 75,
   "id": "fcac9d01",
   "metadata": {},
   "outputs": [
    {
     "name": "stdout",
     "output_type": "stream",
     "text": [
      "Bem vindo Vinicius, você está logado no sistema.\n",
      "Bem vindo Vinicius, você já está logado no sistema.\n",
      "Você está sendo deslogado\n",
      "Você não está logado ainda.\n",
      "Bem vindo Vinicius, você está logado no sistema.\n"
     ]
    }
   ],
   "source": [
    "pessoa1 = Pessoa('Vinicius')\n",
    "pessoa1.logar()\n",
    "pessoa1.logar()\n",
    "pessoa1.deslogar()\n",
    "pessoa1.deslogar()\n",
    "pessoa1.logar()"
   ]
  },
  {
   "cell_type": "code",
   "execution_count": 106,
   "id": "27158fde",
   "metadata": {},
   "outputs": [],
   "source": [
    "#Métodos de classe estáticos e dinâmicos\n",
    "class Pessoa:\n",
    "    ano_atual = 2021\n",
    "    \n",
    "    def __init__(self, nome, idade):\n",
    "        self.nome = nome\n",
    "        self.idade = idade\n",
    "    \n",
    "    @classmethod\n",
    "    def ano_nascimento(cls, nome, ano_nascimento):\n",
    "        idade = cls.ano_atual - ano_nascimento\n",
    "        return cls(nome, idade)"
   ]
  },
  {
   "cell_type": "code",
   "execution_count": 114,
   "id": "df0209b3",
   "metadata": {},
   "outputs": [
    {
     "data": {
      "text/plain": [
       "16"
      ]
     },
     "execution_count": 114,
     "metadata": {},
     "output_type": "execute_result"
    }
   ],
   "source": [
    "pessoa1 = Pessoa.ano_nascimento('Vinicius', 2005)\n",
    "pessoa1.idade"
   ]
  },
  {
   "cell_type": "code",
   "execution_count": 115,
   "id": "cf326cb2",
   "metadata": {},
   "outputs": [],
   "source": [
    "from random import randint\n",
    "\n",
    "class Pessoa:\n",
    "    @staticmethod\n",
    "    def gerador_id():\n",
    "        gerador = randint(100, 999)\n",
    "        return gerador"
   ]
  },
  {
   "cell_type": "code",
   "execution_count": 116,
   "id": "041e7b3c",
   "metadata": {},
   "outputs": [
    {
     "data": {
      "text/plain": [
       "827"
      ]
     },
     "execution_count": 116,
     "metadata": {},
     "output_type": "execute_result"
    }
   ],
   "source": [
    "pessoa1 = Pessoa()\n",
    "pessoa1.gerador_id()"
   ]
  },
  {
   "cell_type": "code",
   "execution_count": 10,
   "id": "9a56cc01",
   "metadata": {},
   "outputs": [],
   "source": [
    "#Setters e Getters\n",
    "class Produto:\n",
    "    def __init__(self, nome, preco):\n",
    "        self.nome = nome\n",
    "        self.preco = preco\n",
    "        \n",
    "    def desconto(self, percentual):\n",
    "        self.preco = self.preco - self.preco * (percentual * 0.01)"
   ]
  },
  {
   "cell_type": "code",
   "execution_count": 11,
   "id": "0b2fd204",
   "metadata": {},
   "outputs": [
    {
     "data": {
      "text/plain": [
       "296.0"
      ]
     },
     "execution_count": 11,
     "metadata": {},
     "output_type": "execute_result"
    }
   ],
   "source": [
    "produto1 = Produto('Processador', 370)\n",
    "produto1.preco\n",
    "produto1.desconto(20)\n",
    "produto1.preco"
   ]
  },
  {
   "cell_type": "code",
   "execution_count": 16,
   "id": "24c809b0",
   "metadata": {},
   "outputs": [],
   "source": [
    "#Setters e Getters\n",
    "class Produto:\n",
    "    def __init__(self, nome, preco):\n",
    "        self.nome = nome\n",
    "        self.preco = preco\n",
    "        \n",
    "    def desconto(self, percentual):\n",
    "        self.preco = self.preco - self.preco * (percentual * 0.01)\n",
    "        \n",
    "    @property\n",
    "    def preco(self):\n",
    "        return self.preco_valido\n",
    "\n",
    "    #Setter\n",
    "    @preco.setter\n",
    "    def preco(self, valor):\n",
    "        if isinstance(valor, str):\n",
    "            valor = float(valor.replace('R$', ''))\n",
    "        self.preco_valido = valor"
   ]
  },
  {
   "cell_type": "code",
   "execution_count": 18,
   "id": "e894cdb3",
   "metadata": {},
   "outputs": [
    {
     "data": {
      "text/plain": [
       "400.0"
      ]
     },
     "execution_count": 18,
     "metadata": {},
     "output_type": "execute_result"
    }
   ],
   "source": [
    "produto2 = Produto('CPU', 'R$ 400')\n",
    "produto2.preco"
   ]
  },
  {
   "cell_type": "code",
   "execution_count": 32,
   "id": "3289ee48",
   "metadata": {},
   "outputs": [],
   "source": [
    "#Encapsulamento\n",
    "class BaseDeDados:\n",
    "    def __init__(self):\n",
    "        self.__base = {}\n",
    "    \n",
    "    def inserir(self, nome, fone):\n",
    "        if 'clientes' not in self.__base:\n",
    "            self.__base['clientes'] = {nome:fone}\n",
    "        else:\n",
    "            self.__base['clientes'].update({nome:fone})\n",
    "\n",
    "    def listar(self):\n",
    "        for nome, fone in self.__base['clientes'].items():\n",
    "            print(nome, fone)\n",
    "            \n",
    "    def apagar(self, nome):\n",
    "        del self.__base['clientes'][nome]"
   ]
  },
  {
   "cell_type": "code",
   "execution_count": 33,
   "id": "674a9082",
   "metadata": {},
   "outputs": [
    {
     "name": "stdout",
     "output_type": "stream",
     "text": [
      "Ana 9923923949\n",
      "João 49949494231\n",
      "Maria 9975432313\n"
     ]
    }
   ],
   "source": [
    "relClientes = BaseDeDados()\n",
    "\n",
    "relClientes.inserir('Ana', 9923923949)\n",
    "relClientes.inserir('João', 49949494231)\n",
    "relClientes.inserir('Maria', 9975432313)\n",
    "\n",
    "relClientes.listar()"
   ]
  },
  {
   "cell_type": "code",
   "execution_count": 38,
   "id": "a3610850",
   "metadata": {},
   "outputs": [
    {
     "data": {
      "text/plain": [
       "{'clientes': {'Ana': 9923923949, 'João': 49949494231, 'Maria': 9975432313}}"
      ]
     },
     "execution_count": 38,
     "metadata": {},
     "output_type": "execute_result"
    }
   ],
   "source": [
    "relClientes.base = 'Novo Banco de Dados'\n",
    "relClientes._BaseDeDados__base"
   ]
  },
  {
   "cell_type": "code",
   "execution_count": 39,
   "id": "f5b38a1c",
   "metadata": {},
   "outputs": [],
   "source": [
    "#Associação de Classes\n",
    "class Usuario:\n",
    "    def __init__(self, nome):\n",
    "        self.__nome = nome\n",
    "        self.__logar = None\n",
    "        \n",
    "    @property\n",
    "    def nome(self):\n",
    "        return self.__nome\n",
    "    \n",
    "    @property\n",
    "    def logar(self):\n",
    "        return self.__logar\n",
    "    \n",
    "    @logar.setter\n",
    "    def logar(self, logar):\n",
    "        self.__logar = logar\n",
    "\n",
    "class Identificador:\n",
    "    def __init__(self, numero):\n",
    "        self.__numero = numero\n",
    "        \n",
    "    @property\n",
    "    def numero(self):\n",
    "        return self.__numero\n",
    "    \n",
    "    def logar(self):\n",
    "        print('Logando no sistema...')"
   ]
  },
  {
   "cell_type": "code",
   "execution_count": 54,
   "id": "9b78b8b7",
   "metadata": {},
   "outputs": [
    {
     "name": "stdout",
     "output_type": "stream",
     "text": [
      "Logando no sistema...\n"
     ]
    }
   ],
   "source": [
    "usuario1 = Usuario('Fernando')\n",
    "identificador1 = Identificador('0001')\n",
    "usuario1.logar = identificador1\n",
    "usuario1.logar.logar()"
   ]
  },
  {
   "cell_type": "code",
   "execution_count": 68,
   "id": "2f213381",
   "metadata": {},
   "outputs": [],
   "source": [
    "#Agregação e composição de classes\n",
    "class Contato:\n",
    "    def __init__(self, residencial, celular):\n",
    "        self.residencial = residencial\n",
    "        self.celular = celular\n",
    "        \n",
    "\n",
    "class Cliente:\n",
    "    def __init__(self, nome, idade, fone=None):\n",
    "        self.nome = nome\n",
    "        self.idade = idade\n",
    "        self.fone = []\n",
    "\n",
    "    def addFone(self, residencial, celular):\n",
    "        self.fone.append(Contato(residencial, celular))\n",
    "    def listaFone(self):\n",
    "        for fone in self.fone:\n",
    "            print(fone.residencial, fone.celular)\n"
   ]
  },
  {
   "cell_type": "code",
   "execution_count": 73,
   "id": "97c94d0f",
   "metadata": {},
   "outputs": [
    {
     "name": "stdout",
     "output_type": "stream",
     "text": [
      "33221766 99135725\n"
     ]
    }
   ],
   "source": [
    "cliente1 = Cliente('Fernando', 32)\n",
    "cliente1.addFone(33221766, 99135725)\n",
    "cliente1.listaFone()"
   ]
  },
  {
   "cell_type": "code",
   "execution_count": 74,
   "id": "cae6c3be",
   "metadata": {},
   "outputs": [],
   "source": [
    "#Herança simples\n",
    "class Carro:\n",
    "    def __init__(self, nome, ano):\n",
    "        self.nome = nome\n",
    "        self.ano = ano\n",
    "        \n",
    "class Corsa(Carro):\n",
    "    pass\n",
    "        \n",
    "class Gol(Carro):\n",
    "    pass\n"
   ]
  },
  {
   "cell_type": "code",
   "execution_count": 75,
   "id": "8d7915c7",
   "metadata": {},
   "outputs": [
    {
     "name": "stdout",
     "output_type": "stream",
     "text": [
      "True\n"
     ]
    }
   ],
   "source": [
    "#Cadeia de heranças\n",
    "class Carro:\n",
    "    def __init__(self, nome, ano):\n",
    "        self.nome = nome\n",
    "        self.ano = ano\n",
    "        \n",
    "class Gasolina(Carro):\n",
    "    def __init__(self, tipogasolina=True, tipoalcool=False):\n",
    "        self.tipogasolina = tipogasolina\n",
    "        self.tipoalcool = tipoalcool\n",
    "        \n",
    "class Jeep(Gasolina):\n",
    "    pass\n",
    "carro1 = Jeep()\n",
    "print(carro1.tipogasolina)"
   ]
  },
  {
   "cell_type": "code",
   "execution_count": 76,
   "id": "40dfdffd",
   "metadata": {},
   "outputs": [],
   "source": [
    "#Herança Múltipla\n",
    "class Mercadoria:\n",
    "    def __init__(self, nome, preco):\n",
    "        self.nome = nome\n",
    "        self.preco = preco\n",
    "        \n",
    "class Carnes(Mercadoria):\n",
    "    def __init__(self, tipo, peso):\n",
    "        self.tipo = tipo\n",
    "        self.peso = peso\n",
    "\n",
    "class Utensilios:\n",
    "    def __init__(self, espetos, carvao):\n",
    "        self.espetos = espetos\n",
    "        self.carvao = carvao\n",
    "\n",
    "class KitChurrasco(Carnes, Utensilios):\n",
    "    pass"
   ]
  },
  {
   "cell_type": "code",
   "execution_count": 91,
   "id": "14201c9c",
   "metadata": {},
   "outputs": [
    {
     "data": {
      "text/plain": [
       "{'tipo': 'costela', 'peso': 14.9}"
      ]
     },
     "execution_count": 91,
     "metadata": {},
     "output_type": "execute_result"
    }
   ],
   "source": [
    "pacote1 = KitChurrasco('carne', 14.90)\n",
    "pacote1.tipo = 'costela'\n",
    "pacote1.peso = 1\n",
    "pacote1.espetos = 1\n",
    "pacote1.carvao = 1"
   ]
  },
  {
   "cell_type": "code",
   "execution_count": 101,
   "id": "7eb3038f",
   "metadata": {},
   "outputs": [],
   "source": [
    "#Sobreposição de membros\n",
    "class Pessoa:\n",
    "    def __init__(self, nome):\n",
    "        self.nome = nome\n",
    "    \n",
    "    def Acao1(self):\n",
    "        print(f'{self.nome} está dormindo')\n",
    "\n",
    "class Jogador1(Pessoa):\n",
    "    \n",
    "    def Acao1(self):\n",
    "        super().Acao1()\n",
    "        print(f'{self.nome} está acordado')\n",
    "        \n",
    "    def Acao2(self):\n",
    "        print(f'{self.nome} está comendo')\n",
    "\n",
    "class SaveJogador1(Jogador1):\n",
    "    pass"
   ]
  },
  {
   "cell_type": "code",
   "execution_count": 102,
   "id": "853a6d31",
   "metadata": {},
   "outputs": [
    {
     "name": "stdout",
     "output_type": "stream",
     "text": [
      "Fernando está dormindo\n",
      "Fernando está acordado\n",
      "Fernando está comendo\n"
     ]
    }
   ],
   "source": [
    "p1 = SaveJogador1('Fernando')\n",
    "p1.Acao1()\n",
    "p1.Acao2()"
   ]
  },
  {
   "cell_type": "code",
   "execution_count": 104,
   "id": "406021a5",
   "metadata": {},
   "outputs": [],
   "source": [
    "#Classes abstratas\n",
    "from abc import ABC, abstractclassmethod\n",
    "class Pessoa(ABC):\n",
    "    @abstractclassmethod\n",
    "    def logar(self):\n",
    "        pass\n",
    "    \n",
    "class Usuario(Pessoa):\n",
    "    def logar(self):\n",
    "        print('Usuário logado no sistema')"
   ]
  },
  {
   "cell_type": "code",
   "execution_count": null,
   "id": "b018aa3d",
   "metadata": {},
   "outputs": [],
   "source": []
  }
 ],
 "metadata": {
  "kernelspec": {
   "display_name": "Python 3",
   "language": "python",
   "name": "python3"
  },
  "language_info": {
   "codemirror_mode": {
    "name": "ipython",
    "version": 3
   },
   "file_extension": ".py",
   "mimetype": "text/x-python",
   "name": "python",
   "nbconvert_exporter": "python",
   "pygments_lexer": "ipython3",
   "version": "3.8.8"
  }
 },
 "nbformat": 4,
 "nbformat_minor": 5
}
